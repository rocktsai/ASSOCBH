{
 "cells": [
  {
   "cell_type": "code",
   "execution_count": 1,
   "id": "de842f3a",
   "metadata": {},
   "outputs": [
    {
     "data": {
      "text/html": [
       "<div>\n",
       "<style scoped>\n",
       "    .dataframe tbody tr th:only-of-type {\n",
       "        vertical-align: middle;\n",
       "    }\n",
       "\n",
       "    .dataframe tbody tr th {\n",
       "        vertical-align: top;\n",
       "    }\n",
       "\n",
       "    .dataframe thead th {\n",
       "        text-align: right;\n",
       "    }\n",
       "</style>\n",
       "<table border=\"1\" class=\"dataframe\">\n",
       "  <thead>\n",
       "    <tr style=\"text-align: right;\">\n",
       "      <th></th>\n",
       "      <th>judge_court</th>\n",
       "      <th>judge_year</th>\n",
       "      <th>judge_month</th>\n",
       "      <th>judge_index</th>\n",
       "      <th>judge_title</th>\n",
       "      <th>教育程度</th>\n",
       "      <th>罪責</th>\n",
       "      <th>傷害方式</th>\n",
       "      <th>下手力道</th>\n",
       "      <th>攻擊部位</th>\n",
       "      <th>...</th>\n",
       "      <th>Recht_score</th>\n",
       "      <th>judge_crimePred</th>\n",
       "      <th>crimePredCategory</th>\n",
       "      <th>judge_crime</th>\n",
       "      <th>crimeCategory</th>\n",
       "      <th>judge_result</th>\n",
       "      <th>judge_resultInt</th>\n",
       "      <th>judge_class</th>\n",
       "      <th>judge_class2</th>\n",
       "      <th>judge_class3</th>\n",
       "    </tr>\n",
       "  </thead>\n",
       "  <tbody>\n",
       "    <tr>\n",
       "      <th>0</th>\n",
       "      <td>臺灣彰化地方法院</td>\n",
       "      <td>111</td>\n",
       "      <td>1</td>\n",
       "      <td>4</td>\n",
       "      <td>過失傷害</td>\n",
       "      <td>1</td>\n",
       "      <td>1</td>\n",
       "      <td>0</td>\n",
       "      <td>0</td>\n",
       "      <td>0</td>\n",
       "      <td>...</td>\n",
       "      <td>0</td>\n",
       "      <td>無罪</td>\n",
       "      <td>0</td>\n",
       "      <td>汽車駕駛人無駕駛執照駕車過失傷害罪</td>\n",
       "      <td>1</td>\n",
       "      <td>拘役參拾伍日</td>\n",
       "      <td>35</td>\n",
       "      <td>2</td>\n",
       "      <td>1</td>\n",
       "      <td>1</td>\n",
       "    </tr>\n",
       "    <tr>\n",
       "      <th>1</th>\n",
       "      <td>臺灣彰化地方法院</td>\n",
       "      <td>111</td>\n",
       "      <td>1</td>\n",
       "      <td>6</td>\n",
       "      <td>傷害致重傷害</td>\n",
       "      <td>0</td>\n",
       "      <td>2</td>\n",
       "      <td>0</td>\n",
       "      <td>0</td>\n",
       "      <td>0</td>\n",
       "      <td>...</td>\n",
       "      <td>0</td>\n",
       "      <td>傷害致重傷害</td>\n",
       "      <td>7</td>\n",
       "      <td>傷害人致重傷罪</td>\n",
       "      <td>4</td>\n",
       "      <td>有期徒刑壹年捌月</td>\n",
       "      <td>605</td>\n",
       "      <td>4</td>\n",
       "      <td>1</td>\n",
       "      <td>3</td>\n",
       "    </tr>\n",
       "    <tr>\n",
       "      <th>2</th>\n",
       "      <td>臺灣彰化地方法院</td>\n",
       "      <td>111</td>\n",
       "      <td>1</td>\n",
       "      <td>18</td>\n",
       "      <td>重傷害</td>\n",
       "      <td>0</td>\n",
       "      <td>0</td>\n",
       "      <td>0</td>\n",
       "      <td>0</td>\n",
       "      <td>0</td>\n",
       "      <td>...</td>\n",
       "      <td>0</td>\n",
       "      <td>傷害致重傷害</td>\n",
       "      <td>7</td>\n",
       "      <td>傷害罪</td>\n",
       "      <td>3</td>\n",
       "      <td>有期徒刑陸月</td>\n",
       "      <td>180</td>\n",
       "      <td>3</td>\n",
       "      <td>1</td>\n",
       "      <td>2</td>\n",
       "    </tr>\n",
       "    <tr>\n",
       "      <th>3</th>\n",
       "      <td>臺灣彰化地方法院</td>\n",
       "      <td>111</td>\n",
       "      <td>1</td>\n",
       "      <td>19</td>\n",
       "      <td>傷害</td>\n",
       "      <td>0</td>\n",
       "      <td>0</td>\n",
       "      <td>0</td>\n",
       "      <td>0</td>\n",
       "      <td>0</td>\n",
       "      <td>...</td>\n",
       "      <td>1</td>\n",
       "      <td>無罪</td>\n",
       "      <td>0</td>\n",
       "      <td>無罪</td>\n",
       "      <td>0</td>\n",
       "      <td>零日</td>\n",
       "      <td>0</td>\n",
       "      <td>0</td>\n",
       "      <td>0</td>\n",
       "      <td>0</td>\n",
       "    </tr>\n",
       "    <tr>\n",
       "      <th>4</th>\n",
       "      <td>臺灣彰化地方法院</td>\n",
       "      <td>111</td>\n",
       "      <td>1</td>\n",
       "      <td>27</td>\n",
       "      <td>傷害</td>\n",
       "      <td>0</td>\n",
       "      <td>0</td>\n",
       "      <td>0</td>\n",
       "      <td>0</td>\n",
       "      <td>0</td>\n",
       "      <td>...</td>\n",
       "      <td>2</td>\n",
       "      <td>無罪</td>\n",
       "      <td>0</td>\n",
       "      <td>無罪</td>\n",
       "      <td>0</td>\n",
       "      <td>零日</td>\n",
       "      <td>0</td>\n",
       "      <td>0</td>\n",
       "      <td>0</td>\n",
       "      <td>0</td>\n",
       "    </tr>\n",
       "    <tr>\n",
       "      <th>...</th>\n",
       "      <td>...</td>\n",
       "      <td>...</td>\n",
       "      <td>...</td>\n",
       "      <td>...</td>\n",
       "      <td>...</td>\n",
       "      <td>...</td>\n",
       "      <td>...</td>\n",
       "      <td>...</td>\n",
       "      <td>...</td>\n",
       "      <td>...</td>\n",
       "      <td>...</td>\n",
       "      <td>...</td>\n",
       "      <td>...</td>\n",
       "      <td>...</td>\n",
       "      <td>...</td>\n",
       "      <td>...</td>\n",
       "      <td>...</td>\n",
       "      <td>...</td>\n",
       "      <td>...</td>\n",
       "      <td>...</td>\n",
       "      <td>...</td>\n",
       "    </tr>\n",
       "    <tr>\n",
       "      <th>66178</th>\n",
       "      <td>臺灣南投地方法院</td>\n",
       "      <td>102</td>\n",
       "      <td>11</td>\n",
       "      <td>20</td>\n",
       "      <td>過失傷害</td>\n",
       "      <td>0</td>\n",
       "      <td>2</td>\n",
       "      <td>0</td>\n",
       "      <td>0</td>\n",
       "      <td>0</td>\n",
       "      <td>...</td>\n",
       "      <td>0</td>\n",
       "      <td>過失傷害致重傷</td>\n",
       "      <td>5</td>\n",
       "      <td>過失傷害人</td>\n",
       "      <td>1</td>\n",
       "      <td>拘役貳拾伍日</td>\n",
       "      <td>25</td>\n",
       "      <td>1</td>\n",
       "      <td>1</td>\n",
       "      <td>1</td>\n",
       "    </tr>\n",
       "    <tr>\n",
       "      <th>66179</th>\n",
       "      <td>臺灣南投地方法院</td>\n",
       "      <td>102</td>\n",
       "      <td>11</td>\n",
       "      <td>27</td>\n",
       "      <td>傷害</td>\n",
       "      <td>0</td>\n",
       "      <td>0</td>\n",
       "      <td>0</td>\n",
       "      <td>0</td>\n",
       "      <td>0</td>\n",
       "      <td>...</td>\n",
       "      <td>0</td>\n",
       "      <td>普通傷害罪</td>\n",
       "      <td>6</td>\n",
       "      <td>傷害罪</td>\n",
       "      <td>3</td>\n",
       "      <td>拘役叁拾日</td>\n",
       "      <td>30</td>\n",
       "      <td>1</td>\n",
       "      <td>1</td>\n",
       "      <td>1</td>\n",
       "    </tr>\n",
       "    <tr>\n",
       "      <th>66180</th>\n",
       "      <td>臺灣南投地方法院</td>\n",
       "      <td>102</td>\n",
       "      <td>12</td>\n",
       "      <td>3</td>\n",
       "      <td>業務過失傷害</td>\n",
       "      <td>1</td>\n",
       "      <td>0</td>\n",
       "      <td>0</td>\n",
       "      <td>0</td>\n",
       "      <td>0</td>\n",
       "      <td>...</td>\n",
       "      <td>0</td>\n",
       "      <td>過失傷害致重傷</td>\n",
       "      <td>5</td>\n",
       "      <td>業務上之過失傷害人</td>\n",
       "      <td>1</td>\n",
       "      <td>有期徒刑肆月</td>\n",
       "      <td>120</td>\n",
       "      <td>3</td>\n",
       "      <td>1</td>\n",
       "      <td>2</td>\n",
       "    </tr>\n",
       "    <tr>\n",
       "      <th>66181</th>\n",
       "      <td>臺灣南投地方法院</td>\n",
       "      <td>102</td>\n",
       "      <td>12</td>\n",
       "      <td>5</td>\n",
       "      <td>傷害等</td>\n",
       "      <td>0</td>\n",
       "      <td>0</td>\n",
       "      <td>0</td>\n",
       "      <td>0</td>\n",
       "      <td>0</td>\n",
       "      <td>...</td>\n",
       "      <td>0</td>\n",
       "      <td>普通傷害罪</td>\n",
       "      <td>6</td>\n",
       "      <td>傷害罪</td>\n",
       "      <td>3</td>\n",
       "      <td>拘役叁拾伍日</td>\n",
       "      <td>35</td>\n",
       "      <td>2</td>\n",
       "      <td>1</td>\n",
       "      <td>1</td>\n",
       "    </tr>\n",
       "    <tr>\n",
       "      <th>66182</th>\n",
       "      <td>臺灣南投地方法院</td>\n",
       "      <td>102</td>\n",
       "      <td>12</td>\n",
       "      <td>18</td>\n",
       "      <td>過失傷害</td>\n",
       "      <td>0</td>\n",
       "      <td>0</td>\n",
       "      <td>0</td>\n",
       "      <td>0</td>\n",
       "      <td>0</td>\n",
       "      <td>...</td>\n",
       "      <td>0</td>\n",
       "      <td>過失傷害致重傷</td>\n",
       "      <td>5</td>\n",
       "      <td>過失傷害人</td>\n",
       "      <td>1</td>\n",
       "      <td>有期徒刑叁月</td>\n",
       "      <td>90</td>\n",
       "      <td>3</td>\n",
       "      <td>1</td>\n",
       "      <td>2</td>\n",
       "    </tr>\n",
       "  </tbody>\n",
       "</table>\n",
       "<p>66183 rows × 40 columns</p>\n",
       "</div>"
      ],
      "text/plain": [
       "      judge_court  judge_year  judge_month  judge_index judge_title  教育程度  罪責  \\\n",
       "0        臺灣彰化地方法院         111            1            4        過失傷害     1   1   \n",
       "1        臺灣彰化地方法院         111            1            6      傷害致重傷害     0   2   \n",
       "2        臺灣彰化地方法院         111            1           18         重傷害     0   0   \n",
       "3        臺灣彰化地方法院         111            1           19          傷害     0   0   \n",
       "4        臺灣彰化地方法院         111            1           27          傷害     0   0   \n",
       "...           ...         ...          ...          ...         ...   ...  ..   \n",
       "66178    臺灣南投地方法院         102           11           20        過失傷害     0   2   \n",
       "66179    臺灣南投地方法院         102           11           27          傷害     0   0   \n",
       "66180    臺灣南投地方法院         102           12            3      業務過失傷害     1   0   \n",
       "66181    臺灣南投地方法院         102           12            5         傷害等     0   0   \n",
       "66182    臺灣南投地方法院         102           12           18        過失傷害     0   0   \n",
       "\n",
       "       傷害方式  下手力道  攻擊部位  ...  Recht_score  judge_crimePred  crimePredCategory  \\\n",
       "0         0     0     0  ...            0               無罪                  0   \n",
       "1         0     0     0  ...            0           傷害致重傷害                  7   \n",
       "2         0     0     0  ...            0           傷害致重傷害                  7   \n",
       "3         0     0     0  ...            1               無罪                  0   \n",
       "4         0     0     0  ...            2               無罪                  0   \n",
       "...     ...   ...   ...  ...          ...              ...                ...   \n",
       "66178     0     0     0  ...            0          過失傷害致重傷                  5   \n",
       "66179     0     0     0  ...            0            普通傷害罪                  6   \n",
       "66180     0     0     0  ...            0          過失傷害致重傷                  5   \n",
       "66181     0     0     0  ...            0            普通傷害罪                  6   \n",
       "66182     0     0     0  ...            0          過失傷害致重傷                  5   \n",
       "\n",
       "             judge_crime  crimeCategory  judge_result  judge_resultInt  \\\n",
       "0      汽車駕駛人無駕駛執照駕車過失傷害罪              1        拘役參拾伍日               35   \n",
       "1                傷害人致重傷罪              4      有期徒刑壹年捌月              605   \n",
       "2                    傷害罪              3        有期徒刑陸月              180   \n",
       "3                     無罪              0            零日                0   \n",
       "4                     無罪              0            零日                0   \n",
       "...                  ...            ...           ...              ...   \n",
       "66178              過失傷害人              1        拘役貳拾伍日               25   \n",
       "66179                傷害罪              3         拘役叁拾日               30   \n",
       "66180          業務上之過失傷害人              1        有期徒刑肆月              120   \n",
       "66181                傷害罪              3        拘役叁拾伍日               35   \n",
       "66182              過失傷害人              1        有期徒刑叁月               90   \n",
       "\n",
       "       judge_class  judge_class2  judge_class3  \n",
       "0                2             1             1  \n",
       "1                4             1             3  \n",
       "2                3             1             2  \n",
       "3                0             0             0  \n",
       "4                0             0             0  \n",
       "...            ...           ...           ...  \n",
       "66178            1             1             1  \n",
       "66179            1             1             1  \n",
       "66180            3             1             2  \n",
       "66181            2             1             1  \n",
       "66182            3             1             2  \n",
       "\n",
       "[66183 rows x 40 columns]"
      ]
     },
     "execution_count": 1,
     "metadata": {},
     "output_type": "execute_result"
    }
   ],
   "source": [
    "from sklearn.ensemble import RandomForestClassifier\n",
    "from sklearn.ensemble import RandomForestRegressor\n",
    "from sklearn.ensemble import AdaBoostClassifier\n",
    "from sklearn import preprocessing\n",
    "from sklearn.model_selection import train_test_split\n",
    "from sklearn.metrics import accuracy_score, confusion_matrix\n",
    "from sklearn.metrics import mean_squared_error, r2_score\n",
    "from sklearn.tree import DecisionTreeClassifier\n",
    "from sklearn.svm import SVC\n",
    "from xgboost import XGBClassifier\n",
    "from xgboost import plot_importance\n",
    "import graphviz \n",
    "import os\n",
    "import pandas as pd\n",
    "import time\n",
    "import xgboost as xgb\n",
    "import matplotlib.pyplot as plt\n",
    "\n",
    "df =  pd.read_csv(\"C:/Users/student/Desktop/project/Judgement_Feature.csv\")\n",
    "df"
   ]
  },
  {
   "cell_type": "code",
   "execution_count": 2,
   "id": "4d5c2b07",
   "metadata": {},
   "outputs": [
    {
     "name": "stdout",
     "output_type": "stream",
     "text": [
      "df_教育程度:\n",
      "0    56459\n",
      "1     9724\n",
      "Name: 教育程度, dtype: int64\n",
      "\n",
      "df_罪責:\n",
      "0    41998\n",
      "2    13712\n",
      "1    10473\n",
      "Name: 罪責, dtype: int64\n",
      "\n",
      "df_傷害方式:\n",
      "0    65032\n",
      "1     1151\n",
      "Name: 傷害方式, dtype: int64\n",
      "\n",
      "df_下手力道:\n",
      "0    65939\n",
      "1      244\n",
      "Name: 下手力道, dtype: int64\n",
      "\n",
      "df_攻擊部位:\n",
      "0    66183\n",
      "Name: 攻擊部位, dtype: int64\n",
      "\n",
      "df_傷害結果:\n",
      "0    55327\n",
      "1     8896\n",
      "2     1960\n",
      "Name: 傷害結果, dtype: int64\n",
      "\n",
      "df_犯後態度:\n",
      "0    49842\n",
      "1     8631\n",
      "2     7710\n",
      "Name: 犯後態度, dtype: int64\n",
      "\n",
      "df_坦承情況:\n",
      "0    57179\n",
      "1     8972\n",
      "2       32\n",
      "Name: 坦承情況, dtype: int64\n",
      "\n",
      "df_賠償狀況:\n",
      "0    65995\n",
      "1      187\n",
      "2        1\n",
      "Name: 賠償狀況, dtype: int64\n",
      "\n",
      "df_經濟狀況:\n",
      "0    66081\n",
      "1      102\n",
      "Name: 經濟狀況, dtype: int64\n",
      "\n",
      "df_被告身心狀況:\n",
      "0    64772\n",
      "1     1411\n",
      "Name: 被告身心狀況, dtype: int64\n",
      "\n",
      "df_被害身心狀況:\n",
      "0    65328\n",
      "1      855\n",
      "Name: 被害身心狀況, dtype: int64\n",
      "\n",
      "df_和解狀況:\n",
      "2    33389\n",
      "0    29509\n",
      "1     3285\n",
      "Name: 和解狀況, dtype: int64\n",
      "\n",
      "df_告訴人和被告人之關係:\n",
      "0    64991\n",
      "1     1192\n",
      "Name: 告訴人和被告人之關係, dtype: int64\n",
      "\n",
      "df_法官心證:\n",
      "0    66174\n",
      "1        9\n",
      "Name: 法官心證, dtype: int64\n",
      "\n",
      "df_crimePredCategory:\n",
      "5     33440\n",
      "6     15153\n",
      "0     12532\n",
      "10     4142\n",
      "9       413\n",
      "1       286\n",
      "7       129\n",
      "3        81\n",
      "2         7\n",
      "Name: crimePredCategory, dtype: int64\n",
      "\n"
     ]
    }
   ],
   "source": [
    "# 每個特徵的類別數量\n",
    "print(f'df_教育程度:\\n{df[\"教育程度\"].value_counts()}\\n')\n",
    "print(f'df_罪責:\\n{df[\"罪責\"].value_counts()}\\n')\n",
    "print(f'df_傷害方式:\\n{df[\"傷害方式\"].value_counts()}\\n')\n",
    "print(f'df_下手力道:\\n{df[\"下手力道\"].value_counts()}\\n')\n",
    "print(f'df_攻擊部位:\\n{df[\"攻擊部位\"].value_counts()}\\n')\n",
    "print(f'df_傷害結果:\\n{df[\"傷害結果\"].value_counts()}\\n')\n",
    "print(f'df_犯後態度:\\n{df[\"犯後態度\"].value_counts()}\\n')\n",
    "print(f'df_坦承情況:\\n{df[\"坦承情況\"].value_counts()}\\n')\n",
    "print(f'df_賠償狀況:\\n{df[\"賠償狀況\"].value_counts()}\\n')\n",
    "print(f'df_經濟狀況:\\n{df[\"經濟狀況\"].value_counts()}\\n')\n",
    "print(f'df_被告身心狀況:\\n{df[\"被告身心狀況\"].value_counts()}\\n')\n",
    "print(f'df_被害身心狀況:\\n{df[\"被害身心狀況\"].value_counts()}\\n')\n",
    "print(f'df_和解狀況:\\n{df[\"和解狀況\"].value_counts()}\\n')\n",
    "print(f'df_告訴人和被告人之關係:\\n{df[\"告訴人和被告人之關係\"].value_counts()}\\n')\n",
    "print(f'df_法官心證:\\n{df[\"法官心證\"].value_counts()}\\n')\n",
    "print(f'df_crimePredCategory:\\n{df[\"crimePredCategory\"].value_counts()}\\n')"
   ]
  },
  {
   "cell_type": "code",
   "execution_count": 2,
   "id": "da394c21",
   "metadata": {},
   "outputs": [
    {
     "data": {
      "text/html": [
       "<div>\n",
       "<style scoped>\n",
       "    .dataframe tbody tr th:only-of-type {\n",
       "        vertical-align: middle;\n",
       "    }\n",
       "\n",
       "    .dataframe tbody tr th {\n",
       "        vertical-align: top;\n",
       "    }\n",
       "\n",
       "    .dataframe thead th {\n",
       "        text-align: right;\n",
       "    }\n",
       "</style>\n",
       "<table border=\"1\" class=\"dataframe\">\n",
       "  <thead>\n",
       "    <tr style=\"text-align: right;\">\n",
       "      <th></th>\n",
       "      <th>教育程度</th>\n",
       "      <th>罪責</th>\n",
       "      <th>傷害方式</th>\n",
       "      <th>下手力道</th>\n",
       "      <th>傷害結果</th>\n",
       "      <th>犯後態度</th>\n",
       "      <th>坦承情況</th>\n",
       "      <th>賠償狀況</th>\n",
       "      <th>經濟狀況</th>\n",
       "      <th>被告身心狀況</th>\n",
       "      <th>被害身心狀況</th>\n",
       "      <th>和解狀況</th>\n",
       "      <th>告訴人和被告人之關係</th>\n",
       "      <th>法官心證</th>\n",
       "      <th>crimePredCategory</th>\n",
       "    </tr>\n",
       "  </thead>\n",
       "  <tbody>\n",
       "    <tr>\n",
       "      <th>0</th>\n",
       "      <td>1</td>\n",
       "      <td>1</td>\n",
       "      <td>0</td>\n",
       "      <td>0</td>\n",
       "      <td>0</td>\n",
       "      <td>0</td>\n",
       "      <td>0</td>\n",
       "      <td>0</td>\n",
       "      <td>0</td>\n",
       "      <td>0</td>\n",
       "      <td>0</td>\n",
       "      <td>0</td>\n",
       "      <td>0</td>\n",
       "      <td>0</td>\n",
       "      <td>0</td>\n",
       "    </tr>\n",
       "    <tr>\n",
       "      <th>1</th>\n",
       "      <td>0</td>\n",
       "      <td>2</td>\n",
       "      <td>0</td>\n",
       "      <td>0</td>\n",
       "      <td>0</td>\n",
       "      <td>1</td>\n",
       "      <td>0</td>\n",
       "      <td>0</td>\n",
       "      <td>0</td>\n",
       "      <td>0</td>\n",
       "      <td>0</td>\n",
       "      <td>2</td>\n",
       "      <td>0</td>\n",
       "      <td>0</td>\n",
       "      <td>7</td>\n",
       "    </tr>\n",
       "    <tr>\n",
       "      <th>2</th>\n",
       "      <td>0</td>\n",
       "      <td>0</td>\n",
       "      <td>0</td>\n",
       "      <td>0</td>\n",
       "      <td>0</td>\n",
       "      <td>0</td>\n",
       "      <td>0</td>\n",
       "      <td>0</td>\n",
       "      <td>0</td>\n",
       "      <td>0</td>\n",
       "      <td>0</td>\n",
       "      <td>2</td>\n",
       "      <td>0</td>\n",
       "      <td>0</td>\n",
       "      <td>7</td>\n",
       "    </tr>\n",
       "    <tr>\n",
       "      <th>3</th>\n",
       "      <td>0</td>\n",
       "      <td>0</td>\n",
       "      <td>0</td>\n",
       "      <td>0</td>\n",
       "      <td>0</td>\n",
       "      <td>2</td>\n",
       "      <td>0</td>\n",
       "      <td>0</td>\n",
       "      <td>0</td>\n",
       "      <td>0</td>\n",
       "      <td>0</td>\n",
       "      <td>0</td>\n",
       "      <td>0</td>\n",
       "      <td>0</td>\n",
       "      <td>0</td>\n",
       "    </tr>\n",
       "    <tr>\n",
       "      <th>4</th>\n",
       "      <td>0</td>\n",
       "      <td>0</td>\n",
       "      <td>0</td>\n",
       "      <td>0</td>\n",
       "      <td>0</td>\n",
       "      <td>0</td>\n",
       "      <td>0</td>\n",
       "      <td>0</td>\n",
       "      <td>0</td>\n",
       "      <td>0</td>\n",
       "      <td>0</td>\n",
       "      <td>0</td>\n",
       "      <td>0</td>\n",
       "      <td>0</td>\n",
       "      <td>0</td>\n",
       "    </tr>\n",
       "    <tr>\n",
       "      <th>...</th>\n",
       "      <td>...</td>\n",
       "      <td>...</td>\n",
       "      <td>...</td>\n",
       "      <td>...</td>\n",
       "      <td>...</td>\n",
       "      <td>...</td>\n",
       "      <td>...</td>\n",
       "      <td>...</td>\n",
       "      <td>...</td>\n",
       "      <td>...</td>\n",
       "      <td>...</td>\n",
       "      <td>...</td>\n",
       "      <td>...</td>\n",
       "      <td>...</td>\n",
       "      <td>...</td>\n",
       "    </tr>\n",
       "    <tr>\n",
       "      <th>66178</th>\n",
       "      <td>0</td>\n",
       "      <td>2</td>\n",
       "      <td>0</td>\n",
       "      <td>0</td>\n",
       "      <td>0</td>\n",
       "      <td>1</td>\n",
       "      <td>0</td>\n",
       "      <td>0</td>\n",
       "      <td>0</td>\n",
       "      <td>0</td>\n",
       "      <td>0</td>\n",
       "      <td>2</td>\n",
       "      <td>0</td>\n",
       "      <td>0</td>\n",
       "      <td>5</td>\n",
       "    </tr>\n",
       "    <tr>\n",
       "      <th>66179</th>\n",
       "      <td>0</td>\n",
       "      <td>0</td>\n",
       "      <td>0</td>\n",
       "      <td>0</td>\n",
       "      <td>0</td>\n",
       "      <td>0</td>\n",
       "      <td>0</td>\n",
       "      <td>0</td>\n",
       "      <td>0</td>\n",
       "      <td>0</td>\n",
       "      <td>0</td>\n",
       "      <td>1</td>\n",
       "      <td>0</td>\n",
       "      <td>0</td>\n",
       "      <td>6</td>\n",
       "    </tr>\n",
       "    <tr>\n",
       "      <th>66180</th>\n",
       "      <td>1</td>\n",
       "      <td>0</td>\n",
       "      <td>0</td>\n",
       "      <td>0</td>\n",
       "      <td>0</td>\n",
       "      <td>0</td>\n",
       "      <td>0</td>\n",
       "      <td>0</td>\n",
       "      <td>0</td>\n",
       "      <td>0</td>\n",
       "      <td>0</td>\n",
       "      <td>1</td>\n",
       "      <td>0</td>\n",
       "      <td>0</td>\n",
       "      <td>5</td>\n",
       "    </tr>\n",
       "    <tr>\n",
       "      <th>66181</th>\n",
       "      <td>0</td>\n",
       "      <td>0</td>\n",
       "      <td>0</td>\n",
       "      <td>0</td>\n",
       "      <td>0</td>\n",
       "      <td>1</td>\n",
       "      <td>0</td>\n",
       "      <td>0</td>\n",
       "      <td>0</td>\n",
       "      <td>0</td>\n",
       "      <td>0</td>\n",
       "      <td>2</td>\n",
       "      <td>0</td>\n",
       "      <td>0</td>\n",
       "      <td>6</td>\n",
       "    </tr>\n",
       "    <tr>\n",
       "      <th>66182</th>\n",
       "      <td>0</td>\n",
       "      <td>0</td>\n",
       "      <td>0</td>\n",
       "      <td>0</td>\n",
       "      <td>1</td>\n",
       "      <td>1</td>\n",
       "      <td>0</td>\n",
       "      <td>0</td>\n",
       "      <td>0</td>\n",
       "      <td>0</td>\n",
       "      <td>0</td>\n",
       "      <td>0</td>\n",
       "      <td>0</td>\n",
       "      <td>0</td>\n",
       "      <td>5</td>\n",
       "    </tr>\n",
       "  </tbody>\n",
       "</table>\n",
       "<p>66183 rows × 15 columns</p>\n",
       "</div>"
      ],
      "text/plain": [
       "       教育程度  罪責  傷害方式  下手力道  傷害結果  犯後態度  坦承情況  賠償狀況  經濟狀況  被告身心狀況  被害身心狀況  \\\n",
       "0         1   1     0     0     0     0     0     0     0       0       0   \n",
       "1         0   2     0     0     0     1     0     0     0       0       0   \n",
       "2         0   0     0     0     0     0     0     0     0       0       0   \n",
       "3         0   0     0     0     0     2     0     0     0       0       0   \n",
       "4         0   0     0     0     0     0     0     0     0       0       0   \n",
       "...     ...  ..   ...   ...   ...   ...   ...   ...   ...     ...     ...   \n",
       "66178     0   2     0     0     0     1     0     0     0       0       0   \n",
       "66179     0   0     0     0     0     0     0     0     0       0       0   \n",
       "66180     1   0     0     0     0     0     0     0     0       0       0   \n",
       "66181     0   0     0     0     0     1     0     0     0       0       0   \n",
       "66182     0   0     0     0     1     1     0     0     0       0       0   \n",
       "\n",
       "       和解狀況  告訴人和被告人之關係  法官心證  crimePredCategory  \n",
       "0         0           0     0                  0  \n",
       "1         2           0     0                  7  \n",
       "2         2           0     0                  7  \n",
       "3         0           0     0                  0  \n",
       "4         0           0     0                  0  \n",
       "...     ...         ...   ...                ...  \n",
       "66178     2           0     0                  5  \n",
       "66179     1           0     0                  6  \n",
       "66180     1           0     0                  5  \n",
       "66181     2           0     0                  6  \n",
       "66182     0           0     0                  5  \n",
       "\n",
       "[66183 rows x 15 columns]"
      ]
     },
     "execution_count": 2,
     "metadata": {},
     "output_type": "execute_result"
    }
   ],
   "source": [
    "X = df.loc[:,[\"教育程度\", \"罪責\", \"傷害方式\", \"下手力道\", \"傷害結果\", \"犯後態度\", \"坦承情況\", \"賠償狀況\", \"經濟狀況\", \"被告身心狀況\", \"被害身心狀況\", \"和解狀況\", \"告訴人和被告人之關係\", \"法官心證\", \"crimePredCategory\"]]\n",
    "X"
   ]
  },
  {
   "cell_type": "code",
   "execution_count": 3,
   "id": "8d0e8df1",
   "metadata": {},
   "outputs": [
    {
     "name": "stdout",
     "output_type": "stream",
     "text": [
      "y_CC類別統計:\n",
      "1     43965\n",
      "3     15034\n",
      "0      4169\n",
      "2      2709\n",
      "4       112\n",
      "5        78\n",
      "9        46\n",
      "6        29\n",
      "7        25\n",
      "12        6\n",
      "10        4\n",
      "13        2\n",
      "11        2\n",
      "8         2\n",
      "Name: crimeCategory, dtype: int64\n",
      "y1類別統計:\n",
      "2    28580\n",
      "3    17603\n",
      "1    14926\n",
      "0     4170\n",
      "4      700\n",
      "5      120\n",
      "6       84\n",
      "Name: judge_class, dtype: int64\n",
      "y2類別統計:\n",
      "1    62013\n",
      "0     4170\n",
      "Name: judge_class2, dtype: int64\n",
      "y3類別統計:\n",
      "1    43506\n",
      "2    17603\n",
      "0     4170\n",
      "3      700\n",
      "4      120\n",
      "5       84\n",
      "Name: judge_class3, dtype: int64\n"
     ]
    }
   ],
   "source": [
    "y_CC = df.loc[:,\"crimeCategory\"]\n",
    "y1 = df.loc[:,\"judge_class\"]  # 刑期分類7類\n",
    "y2 = df.loc[:,\"judge_class2\"] # 有無判刑\n",
    "y3 = df.loc[:,\"judge_class3\"] # 刑期分類6類\n",
    "\n",
    "print(f'y_CC類別統計:\\n{y_CC.value_counts()}')\n",
    "print(f'y1類別統計:\\n{y1.value_counts()}')\n",
    "print(f'y2類別統計:\\n{y2.value_counts()}')\n",
    "print(f'y3類別統計:\\n{y3.value_counts()}')"
   ]
  },
  {
   "cell_type": "code",
   "execution_count": 4,
   "id": "0fb3c331",
   "metadata": {},
   "outputs": [],
   "source": [
    "X_train, X_test, y_CC_train, y_CC_test = train_test_split(X, y_CC, test_size=0.1, random_state=1 )\n",
    "X_train, X_test, y1_train, y1_test = train_test_split(X, y1, test_size=0.1)\n",
    "X_train, X_test, y2_train, y2_test = train_test_split(X, y2, test_size=0.1)\n",
    "X_train, X_test, y3_train, y3_test = train_test_split(X, y3, test_size=0.1)"
   ]
  },
  {
   "cell_type": "markdown",
   "id": "2c537e6b",
   "metadata": {},
   "source": [
    "## Decision Tree"
   ]
  },
  {
   "cell_type": "code",
   "execution_count": 5,
   "id": "32fa0970",
   "metadata": {},
   "outputs": [
    {
     "name": "stdout",
     "output_type": "stream",
     "text": [
      "number of correct sample: 4327\n",
      "accuracy: 0.6537241275117087\n",
      "con_matrix: \n",
      "[[   0  431    0    2    0    0    0    0]\n",
      " [   4 4319    2   26    0    0    0    0]\n",
      " [   0  280    0    1    0    0    0    0]\n",
      " [   4 1511    0    8    0    0    0    0]\n",
      " [   0   14    0    0    0    0    0    0]\n",
      " [   0    7    0    0    0    0    0    0]\n",
      " [   0    3    0    0    0    0    0    0]\n",
      " [   0    7    0    0    0    0    0    0]]\n"
     ]
    }
   ],
   "source": [
    "# 罪名預測\n",
    "DTC = DecisionTreeClassifier(max_depth=10, criterion='entropy')\n",
    "DTC.fit(X_train, y_CC_train)\n",
    "\n",
    "y_CC_pred = DTC.predict(X_test)\n",
    "\n",
    "accuracy = accuracy_score(y_CC_test, y_CC_pred)\n",
    "num_correct_samples = accuracy_score(y_CC_test, y_CC_pred, normalize=False)\n",
    "con_matrix = confusion_matrix(y_CC_test, y_CC_pred)\n",
    "\n",
    "print('number of correct sample: {}'.format(num_correct_samples))\n",
    "print('accuracy: {}'.format(accuracy))\n",
    "print('con_matrix: \\n{}'.format(con_matrix))\n",
    "\n",
    "# output tree structure \n",
    "# dot_data = tree.export_graphviz(DTC, out_file=None) \n",
    "# graph = graphviz.Source(dot_data) \n",
    "# graph.render(\"DTC\") "
   ]
  },
  {
   "cell_type": "code",
   "execution_count": 7,
   "id": "aacb02fe",
   "metadata": {},
   "outputs": [
    {
     "name": "stdout",
     "output_type": "stream",
     "text": [
      "number of correct sample: 367\n",
      "accuracy: 0.05544644206073425\n",
      "con_matrix: \n",
      "[[ 34  22  38  32  19  55  47  32  20  45  20  12  51   6]\n",
      " [346 169 363 378 242 550 479 312 199 422 196 241 407  47]\n",
      " [ 18  16  28  26  15  43  28  12  16  28  12  15  23   1]\n",
      " [134  63 132 133  75 211 150  99  67 144  61  76 152  26]\n",
      " [  0   1   1   2   0   2   1   0   1   1   0   2   3   0]\n",
      " [  0   1   1   0   0   2   0   0   0   3   0   0   0   0]\n",
      " [  0   0   2   0   0   0   0   1   0   0   0   0   0   0]\n",
      " [  0   0   0   0   0   0   0   0   0   0   0   0   0   0]\n",
      " [  0   0   0   0   0   0   0   0   0   0   0   0   0   0]\n",
      " [  1   0   2   0   0   1   1   0   1   1   0   0   0   0]\n",
      " [  0   0   0   0   0   0   0   0   0   0   0   0   0   0]\n",
      " [  0   0   0   0   0   0   0   0   0   0   0   0   0   0]\n",
      " [  0   0   0   0   0   0   0   0   0   0   0   0   0   0]\n",
      " [  0   0   0   0   0   0   0   0   0   0   0   0   0   0]]\n"
     ]
    }
   ],
   "source": [
    "# class_weight = \"balanced\"\n",
    "DTC = DecisionTreeClassifier(max_depth=10, criterion='entropy',class_weight = \"balanced\")\n",
    "DTC.fit(X_train, y_CC_train)\n",
    "\n",
    "y_CC_pred = DTC.predict(X_test)\n",
    "\n",
    "accuracy = accuracy_score(y_CC_test, y_CC_pred)\n",
    "num_correct_samples = accuracy_score(y_CC_test, y_CC_pred, normalize=False)\n",
    "con_matrix = confusion_matrix(y_CC_test, y_CC_pred)\n",
    "\n",
    "print('number of correct sample: {}'.format(num_correct_samples))\n",
    "print('accuracy: {}'.format(accuracy))\n",
    "print('con_matrix: \\n{}'.format(con_matrix))\n",
    "\n",
    "# output tree structure\n",
    "# dot_data = tree.export_graphviz(DTC, out_file=None) \n",
    "# graph = graphviz.Source(dot_data) \n",
    "# graph.render(\"DTC\") "
   ]
  },
  {
   "cell_type": "code",
   "execution_count": 8,
   "id": "faef7a6d",
   "metadata": {},
   "outputs": [
    {
     "name": "stdout",
     "output_type": "stream",
     "text": [
      "number of correct sample: 2783\n",
      "accuracy: 0.42045626227526817\n",
      "con_matrix: \n",
      "[[   1    6  417    4    0    0    0]\n",
      " [   3   24 1473   21    0    0    0]\n",
      " [   3   27 2732   34    0    0    0]\n",
      " [   0   20 1744   26    1    0    0]\n",
      " [   0    3   65    0    0    0    0]\n",
      " [   0    0   10    0    0    0    0]\n",
      " [   0    0    5    0    0    0    0]]\n"
     ]
    }
   ],
   "source": [
    "# 刑期預測(7類)\n",
    "DTC = DecisionTreeClassifier(max_depth=10, criterion='entropy')\n",
    "DTC.fit(X_train, y1_train)\n",
    "\n",
    "y1_pred = DTC.predict(X_test)\n",
    "\n",
    "accuracy = accuracy_score(y1_test, y1_pred)\n",
    "num_correct_samples = accuracy_score(y1_test, y1_pred, normalize=False)\n",
    "con_matrix = confusion_matrix(y1_test, y1_pred)\n",
    "\n",
    "print('number of correct sample: {}'.format(num_correct_samples))\n",
    "print('accuracy: {}'.format(accuracy))\n",
    "print('con_matrix: \\n{}'.format(con_matrix))\n"
   ]
  },
  {
   "cell_type": "code",
   "execution_count": 9,
   "id": "f3530ddc",
   "metadata": {},
   "outputs": [
    {
     "data": {
      "text/plain": [
       "array([3.18577303e-02, 1.20832250e-01, 1.94694833e-02, 4.35885902e-03,\n",
       "       2.00663513e-01, 4.92861765e-02, 1.04481385e-01, 2.81652830e-03,\n",
       "       1.04273021e-03, 2.00586409e-02, 7.60307850e-03, 9.09292509e-02,\n",
       "       9.25128420e-03, 6.84038339e-06, 3.37342250e-01])"
      ]
     },
     "execution_count": 9,
     "metadata": {},
     "output_type": "execute_result"
    }
   ],
   "source": [
    "DTC.feature_importances_"
   ]
  },
  {
   "cell_type": "code",
   "execution_count": 10,
   "id": "71f2e980",
   "metadata": {},
   "outputs": [
    {
     "name": "stdout",
     "output_type": "stream",
     "text": [
      "number of correct sample: 6199\n",
      "accuracy: 0.9365463060885331\n",
      "con_matrix: \n",
      "[[   0  405]\n",
      " [  15 6199]]\n"
     ]
    }
   ],
   "source": [
    "# 有無判刑預測\n",
    "DTC = DecisionTreeClassifier(max_depth=20)\n",
    "DTC.fit(X_train, y2_train)\n",
    "\n",
    "y2_pred = DTC.predict(X_test)\n",
    "\n",
    "accuracy = accuracy_score(y2_test, y2_pred)\n",
    "num_correct_samples = accuracy_score(y2_test, y2_pred, normalize=False)\n",
    "con_matrix = confusion_matrix(y2_test, y2_pred)\n",
    "\n",
    "print('number of correct sample: {}'.format(num_correct_samples))\n",
    "print('accuracy: {}'.format(accuracy))\n",
    "print('con_matrix: \\n{}'.format(con_matrix))\n",
    "\n",
    "\n",
    "# # output tree structure\n",
    "# dot_data = tree.export_graphviz(DTC, out_file=None) \n",
    "# graph = graphviz.Source(dot_data) \n",
    "# graph.render(\"DTC\") "
   ]
  },
  {
   "cell_type": "code",
   "execution_count": 12,
   "id": "75e671fa",
   "metadata": {},
   "outputs": [
    {
     "name": "stdout",
     "output_type": "stream",
     "text": [
      "number of correct sample: 3276\n",
      "accuracy: 0.4949388125094425\n",
      "con_matrix: \n",
      "[[ 202  203]\n",
      " [3140 3074]]\n"
     ]
    }
   ],
   "source": [
    "DTC = DecisionTreeClassifier(max_depth=20, class_weight = \"balanced\")\n",
    "# DTC = DecisionTreeClassifier(max_depth=20)\n",
    "DTC.fit(X_train, y2_train)\n",
    "\n",
    "y2_pred = DTC.predict(X_test)\n",
    "\n",
    "accuracy = accuracy_score(y2_test, y2_pred)\n",
    "num_correct_samples = accuracy_score(y2_test, y2_pred, normalize=False)\n",
    "con_matrix = confusion_matrix(y2_test, y2_pred)\n",
    "\n",
    "print('number of correct sample: {}'.format(num_correct_samples))\n",
    "print('accuracy: {}'.format(accuracy))\n",
    "print('con_matrix: \\n{}'.format(con_matrix))\n",
    "\n",
    "\n",
    "# # output tree structure\n",
    "# dot_data = tree.export_graphviz(DTC, out_file=None) \n",
    "# graph = graphviz.Source(dot_data) \n",
    "# graph.render(\"DTC\") "
   ]
  },
  {
   "cell_type": "code",
   "execution_count": 11,
   "id": "d11a000a",
   "metadata": {},
   "outputs": [
    {
     "data": {
      "text/plain": [
       "array([0.00236512, 0.15129593, 0.05879709, 0.00564941, 0.03885501,\n",
       "       0.15825132, 0.09362476, 0.01031662, 0.0042678 , 0.03936679,\n",
       "       0.02758505, 0.15799344, 0.03218172, 0.00035293, 0.21909701])"
      ]
     },
     "execution_count": 11,
     "metadata": {},
     "output_type": "execute_result"
    }
   ],
   "source": [
    "DTC.feature_importances_"
   ]
  },
  {
   "cell_type": "markdown",
   "id": "e10b3d01",
   "metadata": {},
   "source": [
    "## RandomForestClassifier"
   ]
  },
  {
   "cell_type": "code",
   "execution_count": 6,
   "id": "19b21b4c",
   "metadata": {},
   "outputs": [
    {
     "name": "stdout",
     "output_type": "stream",
     "text": [
      "number of correct sample_RFC: 4350\n",
      "accuracy_RFC: 0.6571989726544796\n",
      "con_matrix_RFC: \n",
      "[[   0  432    0    1    0    0    0    0]\n",
      " [   0 4349    0    2    0    0    0    0]\n",
      " [   0  281    0    0    0    0    0    0]\n",
      " [   0 1522    0    1    0    0    0    0]\n",
      " [   0   14    0    0    0    0    0    0]\n",
      " [   0    7    0    0    0    0    0    0]\n",
      " [   0    3    0    0    0    0    0    0]\n",
      " [   0    7    0    0    0    0    0    0]]\n",
      "總花費時間 : 0.17 分鐘\n"
     ]
    }
   ],
   "source": [
    "# 罪名預測\n",
    "T1=time.time()\n",
    "RFC = RandomForestClassifier(max_depth=10, n_estimators=1000)\n",
    "RFC.fit(X_train, y_CC_train)\n",
    "\n",
    "y_pred_RFC = RFC.predict(X_test)\n",
    "\n",
    "accuracy_RFC = accuracy_score(y_CC_test, y_pred_RFC)\n",
    "num_correct_samples_RFC = accuracy_score(y_CC_test, y_pred_RFC, normalize=False)\n",
    "con_matrix_RFC = confusion_matrix(y_CC_test, y_pred_RFC)\n",
    "\n",
    "\n",
    "T2=time.time()\n",
    "\n",
    "print('number of correct sample_RFC: {}'.format(num_correct_samples_RFC))\n",
    "print('accuracy_RFC: {}'.format(accuracy_RFC))\n",
    "print('con_matrix_RFC: \\n{}'.format(con_matrix_RFC))\n",
    "print(f\"總花費時間 : {((T2 - T1)/60):.2f} 分鐘\")"
   ]
  },
  {
   "cell_type": "code",
   "execution_count": 14,
   "id": "4966828e",
   "metadata": {},
   "outputs": [
    {
     "name": "stdout",
     "output_type": "stream",
     "text": [
      "number of correct sample_RFC: 688\n",
      "accuracy_RFC: 0.10394319383592687\n",
      "con_matrix_RFC: \n",
      "[[ 33  58  34  22  26  50  41  20  20  41  21  11  50   6]\n",
      " [299 535 336 323 270 543 390 225 194 360 196 229 404  47]\n",
      " [ 14  37  25  15  19  43  26   9  16  25  13  15  23   1]\n",
      " [104 208 115  91  95 211 137  71  64 114  62  73 152  26]\n",
      " [  1   2   0   1   0   3   1   0   1   0   0   2   3   0]\n",
      " [  0   2   1   0   0   2   0   0   0   2   0   0   0   0]\n",
      " [  0   0   2   0   0   0   0   1   0   0   0   0   0   0]\n",
      " [  0   0   0   0   0   0   0   0   0   0   0   0   0   0]\n",
      " [  0   0   0   0   0   0   0   0   0   0   0   0   0   0]\n",
      " [  2   0   1   0   1   0   0   0   1   2   0   0   0   0]\n",
      " [  0   0   0   0   0   0   0   0   0   0   0   0   0   0]\n",
      " [  0   0   0   0   0   0   0   0   0   0   0   0   0   0]\n",
      " [  0   0   0   0   0   0   0   0   0   0   0   0   0   0]\n",
      " [  0   0   0   0   0   0   0   0   0   0   0   0   0   0]]\n",
      "總花費時間 : 0.05 分鐘\n"
     ]
    }
   ],
   "source": [
    "T1=time.time()\n",
    "RFC = RandomForestClassifier(max_depth=10, n_estimators=1000, class_weight = \"balanced\", n_jobs=-1)\n",
    "RFC.fit(X_train, y_CC_train)\n",
    "\n",
    "y_pred_RFC = RFC.predict(X_test)\n",
    "\n",
    "accuracy_RFC = accuracy_score(y_CC_test, y_pred_RFC)\n",
    "num_correct_samples_RFC = accuracy_score(y_CC_test, y_pred_RFC, normalize=False)\n",
    "con_matrix_RFC = confusion_matrix(y_CC_test, y_pred_RFC)\n",
    "\n",
    "\n",
    "T2=time.time()\n",
    "\n",
    "print('number of correct sample_RFC: {}'.format(num_correct_samples_RFC))\n",
    "print('accuracy_RFC: {}'.format(accuracy_RFC))\n",
    "print('con_matrix_RFC: \\n{}'.format(con_matrix_RFC))\n",
    "print(f\"總花費時間 : {((T2 - T1)/60):.2f} 分鐘\")"
   ]
  },
  {
   "cell_type": "code",
   "execution_count": 7,
   "id": "5fa88f8c",
   "metadata": {},
   "outputs": [
    {
     "name": "stdout",
     "output_type": "stream",
     "text": [
      "number of correct sample_RFC: 2797\n",
      "accuracy_RFC: 0.4225713854056504\n",
      "con_matrix_RFC: \n",
      "[[   0    0  427    1    0    0    0]\n",
      " [   2    2 1513    4    0    0    0]\n",
      " [   0    4 2786    6    0    0    0]\n",
      " [   0    2 1780    9    0    0    0]\n",
      " [   0    0   68    0    0    0    0]\n",
      " [   0    0   10    0    0    0    0]\n",
      " [   0    0    5    0    0    0    0]]\n",
      "總花費時間 : 0.05 分鐘\n"
     ]
    }
   ],
   "source": [
    "# 刑期預測(7類)\n",
    "T1=time.time()\n",
    "RFC = RandomForestClassifier(max_depth=10, n_estimators=1000, n_jobs=-1)\n",
    "RFC.fit(X_train, y1_train)\n",
    "\n",
    "y1_pred_RFC = RFC.predict(X_test)\n",
    "\n",
    "accuracy_RFC = accuracy_score(y1_test, y1_pred_RFC)\n",
    "num_correct_samples_RFC = accuracy_score(y1_test, y1_pred_RFC, normalize=False)\n",
    "con_matrix_RFC = confusion_matrix(y1_test, y1_pred_RFC)\n",
    "T2=time.time()\n",
    "\n",
    "print('number of correct sample_RFC: {}'.format(num_correct_samples_RFC))\n",
    "print('accuracy_RFC: {}'.format(accuracy_RFC))\n",
    "print('con_matrix_RFC: \\n{}'.format(con_matrix_RFC))\n",
    "print(f\"總花費時間 : {((T2 - T1)/60):.2f} 分鐘\")"
   ]
  },
  {
   "cell_type": "markdown",
   "id": "c8f4a886",
   "metadata": {},
   "source": [
    "## BalancedRandomForestClassifier"
   ]
  },
  {
   "cell_type": "code",
   "execution_count": 17,
   "id": "7e06351c",
   "metadata": {},
   "outputs": [],
   "source": [
    "from imblearn.ensemble import BalancedRandomForestClassifier"
   ]
  },
  {
   "cell_type": "code",
   "execution_count": 18,
   "id": "08ed8022",
   "metadata": {},
   "outputs": [
    {
     "name": "stdout",
     "output_type": "stream",
     "text": [
      "number of correct sample_RFC: 28\n",
      "accuracy_RFC: 0.004230246260764466\n",
      "con_matrix_RFC: \n",
      "[[  6   1   0   8   6   7  41   3  54  16  81  90  75  45]\n",
      " [ 42   1   0  63  37 135 445  48 673 178 714 983 674 358]\n",
      " [  1   0   0   2   2   7  29   2  42  13  50  70  45  18]\n",
      " [ 16   0   0  17  12  49 155  15 231  70 270 323 245 120]\n",
      " [  0   0   0   0   1   2   2   0   1   0   1   2   4   1]\n",
      " [  0   0   0   1   0   1   0   0   0   1   2   2   0   0]\n",
      " [  0   0   0   0   0   0   1   0   1   0   0   0   0   1]\n",
      " [  0   0   0   0   0   0   0   0   0   0   0   0   0   0]\n",
      " [  0   0   0   0   0   0   0   0   0   0   0   0   0   0]\n",
      " [  0   0   0   0   0   0   0   0   1   1   1   3   1   0]\n",
      " [  0   0   0   0   0   0   0   0   0   0   0   0   0   0]\n",
      " [  0   0   0   0   0   0   0   0   0   0   0   0   0   0]\n",
      " [  0   0   0   0   0   0   0   0   0   0   0   0   0   0]\n",
      " [  0   0   0   0   0   0   0   0   0   0   0   0   0   0]]\n"
     ]
    }
   ],
   "source": [
    "BRFC = BalancedRandomForestClassifier(max_depth=10, n_estimators=1000)\n",
    "BRFC.fit(X_train, y_CC_train)\n",
    "\n",
    "y_pred_BRFC = BRFC.predict(X_test)\n",
    "\n",
    "accuracy_BRFC = accuracy_score(y_CC_test, y_pred_BRFC)\n",
    "num_correct_samples_BRFC = accuracy_score(y_CC_test, y_pred_BRFC, normalize=False)\n",
    "con_matrix_BRFC = confusion_matrix(y_CC_test, y_pred_BRFC)\n",
    "\n",
    "print('number of correct sample_RFC: {}'.format(num_correct_samples_BRFC))\n",
    "print('accuracy_RFC: {}'.format(accuracy_BRFC))\n",
    "print('con_matrix_RFC: \\n{}'.format(con_matrix_BRFC))"
   ]
  },
  {
   "cell_type": "code",
   "execution_count": 19,
   "id": "07abee80",
   "metadata": {},
   "outputs": [
    {
     "name": "stdout",
     "output_type": "stream",
     "text": [
      "number of correct sample_RFC: 1281\n",
      "accuracy_RFC: 0.19353376642997433\n",
      "con_matrix_RFC: \n",
      "[[270  42   2  10  11   5  16  26  18]\n",
      " [ 77 300  17 137  24  29  33  38  22]\n",
      " [ 96 250  25 198  34  39  71  64  31]\n",
      " [ 75 228  17 195  23  46 110  73  44]\n",
      " [ 92 250  29 216  47  59 140  98  44]\n",
      " [ 83 262  34 247  53  58 136 146  81]\n",
      " [ 60 175  18 182  36  50 163 182  88]\n",
      " [ 33  73   2  69  17  20  88  76  64]\n",
      " [ 29  76   2  56  14  21  48  59 147]]\n"
     ]
    }
   ],
   "source": [
    "BRFC = BalancedRandomForestClassifier(max_depth=10, n_estimators=1000)\n",
    "BRFC.fit(X_train, y3_train)\n",
    "\n",
    "y_pred_BRFC = BRFC.predict(X_test)\n",
    "\n",
    "accuracy_BRFC = accuracy_score(y3_test, y_pred_BRFC)\n",
    "num_correct_samples_BRFC = accuracy_score(y3_test, y_pred_BRFC, normalize=False)\n",
    "con_matrix_BRFC = confusion_matrix(y3_test, y_pred_BRFC)\n",
    "\n",
    "print('number of correct sample_RFC: {}'.format(num_correct_samples_BRFC))\n",
    "print('accuracy_RFC: {}'.format(accuracy_BRFC))\n",
    "print('con_matrix_RFC: \\n{}'.format(con_matrix_BRFC))"
   ]
  },
  {
   "cell_type": "markdown",
   "id": "d8f7a7b8",
   "metadata": {},
   "source": [
    "## XGBClassifier"
   ]
  },
  {
   "cell_type": "code",
   "execution_count": 20,
   "id": "cebbd1b1",
   "metadata": {},
   "outputs": [
    {
     "name": "stdout",
     "output_type": "stream",
     "text": [
      "[11:07:47] WARNING: C:/buildkite-agent/builds/buildkite-windows-cpu-autoscaling-group-i-030221e36e1a46bfb-1/xgboost/xgboost-ci-windows/src/learner.cc:767: \n",
      "Parameters: { \"class_weight\" } are not used.\n",
      "\n",
      "number of correct sample_XGBC: 4347\n",
      "accuracy_XGBC: 0.6567457319836834\n",
      "con_matrix_XGBC: \n",
      "[[   0  433    0    0    0    0    0    0]\n",
      " [   0 4344    0    7    0    0    0    0]\n",
      " [   0  281    0    0    0    0    0    0]\n",
      " [   0 1520    0    3    0    0    0    0]\n",
      " [   0   14    0    0    0    0    0    0]\n",
      " [   0    7    0    0    0    0    0    0]\n",
      " [   0    3    0    0    0    0    0    0]\n",
      " [   0    7    0    0    0    0    0    0]]\n",
      "總花費時間 : 0.93 分鐘\n"
     ]
    }
   ],
   "source": [
    "T1=time.time()\n",
    "XGBC = XGBClassifier( n_estimators=1000, learning_rate= 0.01, max_depth=6, class_weight = \"balanced\")        \n",
    "\n",
    "XGBC.fit(X_train, y_CC_train)\n",
    "\n",
    "y_CC_pred_XGBC = XGBC.predict(X_test)\n",
    "\n",
    "accuracy_XGBC = accuracy_score(y_CC_test, y_CC_pred_XGBC)\n",
    "num_correct_samples_XGBC = accuracy_score(y_CC_test, y_CC_pred_XGBC, normalize=False)\n",
    "con_matrix_XGBC = confusion_matrix(y_CC_test, y_CC_pred_XGBC)\n",
    "T2=time.time()\n",
    "\n",
    "print('number of correct sample_XGBC: {}'.format(num_correct_samples_XGBC))\n",
    "print('accuracy_XGBC: {}'.format(accuracy_XGBC))\n",
    "print('con_matrix_XGBC: \\n{}'.format(con_matrix_XGBC))\n",
    "print(f\"總花費時間 : {((T2 - T1)/60):.2f} 分鐘\")"
   ]
  },
  {
   "cell_type": "code",
   "execution_count": 10,
   "id": "1ae4eaff",
   "metadata": {},
   "outputs": [
    {
     "name": "stdout",
     "output_type": "stream",
     "text": [
      "number of correct sample_XGBC: 2782\n",
      "accuracy_XGBC: 0.42030518205166945\n",
      "con_matrix_XGBC: \n",
      "[[   0    0  424    4    0    0    0]\n",
      " [   2    3 1509    7    0    0    0]\n",
      " [   0    8 2770   18    0    0    0]\n",
      " [   0    4 1778    9    0    0    0]\n",
      " [   0    0   67    1    0    0    0]\n",
      " [   0    0   10    0    0    0    0]\n",
      " [   0    0    5    0    0    0    0]]\n",
      "總花費時間 : 0.47 分鐘\n"
     ]
    }
   ],
   "source": [
    "T1=time.time()\n",
    "XGBC = XGBClassifier( n_estimators=1000, learning_rate= 0.01, max_depth=6)        \n",
    "\n",
    "XGBC.fit(X_train, y1_train)\n",
    "\n",
    "y1_pred_XGBC = XGBC.predict(X_test)\n",
    "\n",
    "accuracy_XGBC = accuracy_score(y1_test, y1_pred_XGBC)\n",
    "num_correct_samples_XGBC = accuracy_score(y1_test, y1_pred_XGBC, normalize=False)\n",
    "con_matrix_XGBC = confusion_matrix(y1_test, y1_pred_XGBC)\n",
    "T2=time.time()\n",
    "\n",
    "print('number of correct sample_XGBC: {}'.format(num_correct_samples_XGBC))\n",
    "print('accuracy_XGBC: {}'.format(accuracy_XGBC))\n",
    "print('con_matrix_XGBC: \\n{}'.format(con_matrix_XGBC))\n",
    "print(f\"總花費時間 : {((T2 - T1)/60):.2f} 分鐘\")"
   ]
  },
  {
   "cell_type": "code",
   "execution_count": 21,
   "id": "f43eef12",
   "metadata": {},
   "outputs": [
    {
     "name": "stderr",
     "output_type": "stream",
     "text": [
      "C:\\Users\\student\\anaconda3\\envs\\ML_pythone3_9\\lib\\site-packages\\IPython\\core\\pylabtools.py:152: UserWarning: Glyph 27861 (\\N{CJK UNIFIED IDEOGRAPH-6CD5}) missing from current font.\n",
      "  fig.canvas.print_figure(bytes_io, **kw)\n",
      "C:\\Users\\student\\anaconda3\\envs\\ML_pythone3_9\\lib\\site-packages\\IPython\\core\\pylabtools.py:152: UserWarning: Glyph 23448 (\\N{CJK UNIFIED IDEOGRAPH-5B98}) missing from current font.\n",
      "  fig.canvas.print_figure(bytes_io, **kw)\n",
      "C:\\Users\\student\\anaconda3\\envs\\ML_pythone3_9\\lib\\site-packages\\IPython\\core\\pylabtools.py:152: UserWarning: Glyph 24515 (\\N{CJK UNIFIED IDEOGRAPH-5FC3}) missing from current font.\n",
      "  fig.canvas.print_figure(bytes_io, **kw)\n",
      "C:\\Users\\student\\anaconda3\\envs\\ML_pythone3_9\\lib\\site-packages\\IPython\\core\\pylabtools.py:152: UserWarning: Glyph 35657 (\\N{CJK UNIFIED IDEOGRAPH-8B49}) missing from current font.\n",
      "  fig.canvas.print_figure(bytes_io, **kw)\n",
      "C:\\Users\\student\\anaconda3\\envs\\ML_pythone3_9\\lib\\site-packages\\IPython\\core\\pylabtools.py:152: UserWarning: Glyph 32147 (\\N{CJK UNIFIED IDEOGRAPH-7D93}) missing from current font.\n",
      "  fig.canvas.print_figure(bytes_io, **kw)\n",
      "C:\\Users\\student\\anaconda3\\envs\\ML_pythone3_9\\lib\\site-packages\\IPython\\core\\pylabtools.py:152: UserWarning: Glyph 28639 (\\N{CJK UNIFIED IDEOGRAPH-6FDF}) missing from current font.\n",
      "  fig.canvas.print_figure(bytes_io, **kw)\n",
      "C:\\Users\\student\\anaconda3\\envs\\ML_pythone3_9\\lib\\site-packages\\IPython\\core\\pylabtools.py:152: UserWarning: Glyph 29376 (\\N{CJK UNIFIED IDEOGRAPH-72C0}) missing from current font.\n",
      "  fig.canvas.print_figure(bytes_io, **kw)\n",
      "C:\\Users\\student\\anaconda3\\envs\\ML_pythone3_9\\lib\\site-packages\\IPython\\core\\pylabtools.py:152: UserWarning: Glyph 27841 (\\N{CJK UNIFIED IDEOGRAPH-6CC1}) missing from current font.\n",
      "  fig.canvas.print_figure(bytes_io, **kw)\n",
      "C:\\Users\\student\\anaconda3\\envs\\ML_pythone3_9\\lib\\site-packages\\IPython\\core\\pylabtools.py:152: UserWarning: Glyph 36064 (\\N{CJK UNIFIED IDEOGRAPH-8CE0}) missing from current font.\n",
      "  fig.canvas.print_figure(bytes_io, **kw)\n",
      "C:\\Users\\student\\anaconda3\\envs\\ML_pythone3_9\\lib\\site-packages\\IPython\\core\\pylabtools.py:152: UserWarning: Glyph 20767 (\\N{CJK UNIFIED IDEOGRAPH-511F}) missing from current font.\n",
      "  fig.canvas.print_figure(bytes_io, **kw)\n",
      "C:\\Users\\student\\anaconda3\\envs\\ML_pythone3_9\\lib\\site-packages\\IPython\\core\\pylabtools.py:152: UserWarning: Glyph 34987 (\\N{CJK UNIFIED IDEOGRAPH-88AB}) missing from current font.\n",
      "  fig.canvas.print_figure(bytes_io, **kw)\n",
      "C:\\Users\\student\\anaconda3\\envs\\ML_pythone3_9\\lib\\site-packages\\IPython\\core\\pylabtools.py:152: UserWarning: Glyph 23475 (\\N{CJK UNIFIED IDEOGRAPH-5BB3}) missing from current font.\n",
      "  fig.canvas.print_figure(bytes_io, **kw)\n",
      "C:\\Users\\student\\anaconda3\\envs\\ML_pythone3_9\\lib\\site-packages\\IPython\\core\\pylabtools.py:152: UserWarning: Glyph 36523 (\\N{CJK UNIFIED IDEOGRAPH-8EAB}) missing from current font.\n",
      "  fig.canvas.print_figure(bytes_io, **kw)\n",
      "C:\\Users\\student\\anaconda3\\envs\\ML_pythone3_9\\lib\\site-packages\\IPython\\core\\pylabtools.py:152: UserWarning: Glyph 21578 (\\N{CJK UNIFIED IDEOGRAPH-544A}) missing from current font.\n",
      "  fig.canvas.print_figure(bytes_io, **kw)\n",
      "C:\\Users\\student\\anaconda3\\envs\\ML_pythone3_9\\lib\\site-packages\\IPython\\core\\pylabtools.py:152: UserWarning: Glyph 35380 (\\N{CJK UNIFIED IDEOGRAPH-8A34}) missing from current font.\n",
      "  fig.canvas.print_figure(bytes_io, **kw)\n",
      "C:\\Users\\student\\anaconda3\\envs\\ML_pythone3_9\\lib\\site-packages\\IPython\\core\\pylabtools.py:152: UserWarning: Glyph 20154 (\\N{CJK UNIFIED IDEOGRAPH-4EBA}) missing from current font.\n",
      "  fig.canvas.print_figure(bytes_io, **kw)\n",
      "C:\\Users\\student\\anaconda3\\envs\\ML_pythone3_9\\lib\\site-packages\\IPython\\core\\pylabtools.py:152: UserWarning: Glyph 21644 (\\N{CJK UNIFIED IDEOGRAPH-548C}) missing from current font.\n",
      "  fig.canvas.print_figure(bytes_io, **kw)\n",
      "C:\\Users\\student\\anaconda3\\envs\\ML_pythone3_9\\lib\\site-packages\\IPython\\core\\pylabtools.py:152: UserWarning: Glyph 20043 (\\N{CJK UNIFIED IDEOGRAPH-4E4B}) missing from current font.\n",
      "  fig.canvas.print_figure(bytes_io, **kw)\n",
      "C:\\Users\\student\\anaconda3\\envs\\ML_pythone3_9\\lib\\site-packages\\IPython\\core\\pylabtools.py:152: UserWarning: Glyph 38364 (\\N{CJK UNIFIED IDEOGRAPH-95DC}) missing from current font.\n",
      "  fig.canvas.print_figure(bytes_io, **kw)\n",
      "C:\\Users\\student\\anaconda3\\envs\\ML_pythone3_9\\lib\\site-packages\\IPython\\core\\pylabtools.py:152: UserWarning: Glyph 20418 (\\N{CJK UNIFIED IDEOGRAPH-4FC2}) missing from current font.\n",
      "  fig.canvas.print_figure(bytes_io, **kw)\n",
      "C:\\Users\\student\\anaconda3\\envs\\ML_pythone3_9\\lib\\site-packages\\IPython\\core\\pylabtools.py:152: UserWarning: Glyph 19979 (\\N{CJK UNIFIED IDEOGRAPH-4E0B}) missing from current font.\n",
      "  fig.canvas.print_figure(bytes_io, **kw)\n",
      "C:\\Users\\student\\anaconda3\\envs\\ML_pythone3_9\\lib\\site-packages\\IPython\\core\\pylabtools.py:152: UserWarning: Glyph 25163 (\\N{CJK UNIFIED IDEOGRAPH-624B}) missing from current font.\n",
      "  fig.canvas.print_figure(bytes_io, **kw)\n",
      "C:\\Users\\student\\anaconda3\\envs\\ML_pythone3_9\\lib\\site-packages\\IPython\\core\\pylabtools.py:152: UserWarning: Glyph 21147 (\\N{CJK UNIFIED IDEOGRAPH-529B}) missing from current font.\n",
      "  fig.canvas.print_figure(bytes_io, **kw)\n",
      "C:\\Users\\student\\anaconda3\\envs\\ML_pythone3_9\\lib\\site-packages\\IPython\\core\\pylabtools.py:152: UserWarning: Glyph 36947 (\\N{CJK UNIFIED IDEOGRAPH-9053}) missing from current font.\n",
      "  fig.canvas.print_figure(bytes_io, **kw)\n",
      "C:\\Users\\student\\anaconda3\\envs\\ML_pythone3_9\\lib\\site-packages\\IPython\\core\\pylabtools.py:152: UserWarning: Glyph 20663 (\\N{CJK UNIFIED IDEOGRAPH-50B7}) missing from current font.\n",
      "  fig.canvas.print_figure(bytes_io, **kw)\n",
      "C:\\Users\\student\\anaconda3\\envs\\ML_pythone3_9\\lib\\site-packages\\IPython\\core\\pylabtools.py:152: UserWarning: Glyph 26041 (\\N{CJK UNIFIED IDEOGRAPH-65B9}) missing from current font.\n",
      "  fig.canvas.print_figure(bytes_io, **kw)\n",
      "C:\\Users\\student\\anaconda3\\envs\\ML_pythone3_9\\lib\\site-packages\\IPython\\core\\pylabtools.py:152: UserWarning: Glyph 24335 (\\N{CJK UNIFIED IDEOGRAPH-5F0F}) missing from current font.\n",
      "  fig.canvas.print_figure(bytes_io, **kw)\n",
      "C:\\Users\\student\\anaconda3\\envs\\ML_pythone3_9\\lib\\site-packages\\IPython\\core\\pylabtools.py:152: UserWarning: Glyph 25945 (\\N{CJK UNIFIED IDEOGRAPH-6559}) missing from current font.\n",
      "  fig.canvas.print_figure(bytes_io, **kw)\n",
      "C:\\Users\\student\\anaconda3\\envs\\ML_pythone3_9\\lib\\site-packages\\IPython\\core\\pylabtools.py:152: UserWarning: Glyph 32946 (\\N{CJK UNIFIED IDEOGRAPH-80B2}) missing from current font.\n",
      "  fig.canvas.print_figure(bytes_io, **kw)\n",
      "C:\\Users\\student\\anaconda3\\envs\\ML_pythone3_9\\lib\\site-packages\\IPython\\core\\pylabtools.py:152: UserWarning: Glyph 31243 (\\N{CJK UNIFIED IDEOGRAPH-7A0B}) missing from current font.\n",
      "  fig.canvas.print_figure(bytes_io, **kw)\n",
      "C:\\Users\\student\\anaconda3\\envs\\ML_pythone3_9\\lib\\site-packages\\IPython\\core\\pylabtools.py:152: UserWarning: Glyph 24230 (\\N{CJK UNIFIED IDEOGRAPH-5EA6}) missing from current font.\n",
      "  fig.canvas.print_figure(bytes_io, **kw)\n",
      "C:\\Users\\student\\anaconda3\\envs\\ML_pythone3_9\\lib\\site-packages\\IPython\\core\\pylabtools.py:152: UserWarning: Glyph 22374 (\\N{CJK UNIFIED IDEOGRAPH-5766}) missing from current font.\n",
      "  fig.canvas.print_figure(bytes_io, **kw)\n",
      "C:\\Users\\student\\anaconda3\\envs\\ML_pythone3_9\\lib\\site-packages\\IPython\\core\\pylabtools.py:152: UserWarning: Glyph 25215 (\\N{CJK UNIFIED IDEOGRAPH-627F}) missing from current font.\n",
      "  fig.canvas.print_figure(bytes_io, **kw)\n",
      "C:\\Users\\student\\anaconda3\\envs\\ML_pythone3_9\\lib\\site-packages\\IPython\\core\\pylabtools.py:152: UserWarning: Glyph 24773 (\\N{CJK UNIFIED IDEOGRAPH-60C5}) missing from current font.\n",
      "  fig.canvas.print_figure(bytes_io, **kw)\n",
      "C:\\Users\\student\\anaconda3\\envs\\ML_pythone3_9\\lib\\site-packages\\IPython\\core\\pylabtools.py:152: UserWarning: Glyph 32080 (\\N{CJK UNIFIED IDEOGRAPH-7D50}) missing from current font.\n",
      "  fig.canvas.print_figure(bytes_io, **kw)\n",
      "C:\\Users\\student\\anaconda3\\envs\\ML_pythone3_9\\lib\\site-packages\\IPython\\core\\pylabtools.py:152: UserWarning: Glyph 26524 (\\N{CJK UNIFIED IDEOGRAPH-679C}) missing from current font.\n",
      "  fig.canvas.print_figure(bytes_io, **kw)\n",
      "C:\\Users\\student\\anaconda3\\envs\\ML_pythone3_9\\lib\\site-packages\\IPython\\core\\pylabtools.py:152: UserWarning: Glyph 29359 (\\N{CJK UNIFIED IDEOGRAPH-72AF}) missing from current font.\n",
      "  fig.canvas.print_figure(bytes_io, **kw)\n",
      "C:\\Users\\student\\anaconda3\\envs\\ML_pythone3_9\\lib\\site-packages\\IPython\\core\\pylabtools.py:152: UserWarning: Glyph 24460 (\\N{CJK UNIFIED IDEOGRAPH-5F8C}) missing from current font.\n",
      "  fig.canvas.print_figure(bytes_io, **kw)\n",
      "C:\\Users\\student\\anaconda3\\envs\\ML_pythone3_9\\lib\\site-packages\\IPython\\core\\pylabtools.py:152: UserWarning: Glyph 24907 (\\N{CJK UNIFIED IDEOGRAPH-614B}) missing from current font.\n",
      "  fig.canvas.print_figure(bytes_io, **kw)\n",
      "C:\\Users\\student\\anaconda3\\envs\\ML_pythone3_9\\lib\\site-packages\\IPython\\core\\pylabtools.py:152: UserWarning: Glyph 32618 (\\N{CJK UNIFIED IDEOGRAPH-7F6A}) missing from current font.\n",
      "  fig.canvas.print_figure(bytes_io, **kw)\n",
      "C:\\Users\\student\\anaconda3\\envs\\ML_pythone3_9\\lib\\site-packages\\IPython\\core\\pylabtools.py:152: UserWarning: Glyph 36012 (\\N{CJK UNIFIED IDEOGRAPH-8CAC}) missing from current font.\n",
      "  fig.canvas.print_figure(bytes_io, **kw)\n",
      "C:\\Users\\student\\anaconda3\\envs\\ML_pythone3_9\\lib\\site-packages\\IPython\\core\\pylabtools.py:152: UserWarning: Glyph 35299 (\\N{CJK UNIFIED IDEOGRAPH-89E3}) missing from current font.\n",
      "  fig.canvas.print_figure(bytes_io, **kw)\n"
     ]
    },
    {
     "data": {
      "image/png": "[encoded data removed]",
      "text/plain": [
       "<Figure size 640x480 with 1 Axes>"
      ]
     },
     "metadata": {},
     "output_type": "display_data"
    }
   ],
   "source": [
    "plot_importance(XGBC)\n",
    "plt.show()"
   ]
  },
  {
   "cell_type": "code",
   "execution_count": 22,
   "id": "4774c668",
   "metadata": {},
   "outputs": [
    {
     "name": "stdout",
     "output_type": "stream",
     "text": [
      "[0.0769813  0.07556416 0.07927752 0.06989232 0.06969442 0.06882934\n",
      " 0.07578474 0.0610481  0.07562754 0.08476245 0.06748039 0.05612041\n",
      " 0.05303186 0.01512004 0.07078537]\n"
     ]
    }
   ],
   "source": [
    "print(XGBC.feature_importances_)"
   ]
  },
  {
   "cell_type": "code",
   "execution_count": 23,
   "id": "d6d65c04",
   "metadata": {},
   "outputs": [
    {
     "data": {
      "image/png": "[encoded data removed]",
      "text/plain": [
       "<Figure size 640x480 with 1 Axes>"
      ]
     },
     "metadata": {},
     "output_type": "display_data"
    }
   ],
   "source": [
    "plt.bar(range(len(XGBC.feature_importances_)),XGBC.feature_importances_)\n",
    "plt.show()"
   ]
  },
  {
   "cell_type": "code",
   "execution_count": 24,
   "id": "3767ce80",
   "metadata": {},
   "outputs": [
    {
     "name": "stdout",
     "output_type": "stream",
     "text": [
      "number of correct sample_XGBC: 6214\n",
      "accuracy_XGBC: 0.9388125094425139\n",
      "con_matrix_XGBC: \n",
      "[[   0  405]\n",
      " [   0 6214]]\n",
      "總花費時間 : 0.10 分鐘\n"
     ]
    }
   ],
   "source": [
    "T1=time.time()\n",
    "XGBC = XGBClassifier( n_estimators=1000, learning_rate= 0.01, max_depth=6)        \n",
    "\n",
    "XGBC.fit(X_train, y2_train)\n",
    "\n",
    "y2_pred_XGBC = XGBC.predict(X_test)\n",
    "\n",
    "accuracy_XGBC = accuracy_score(y2_test, y2_pred_XGBC)\n",
    "num_correct_samples_XGBC = accuracy_score(y2_test, y2_pred_XGBC, normalize=False)\n",
    "con_matrix_XGBC = confusion_matrix(y2_test, y2_pred_XGBC)\n",
    "T2=time.time()\n",
    "\n",
    "print('number of correct sample_XGBC: {}'.format(num_correct_samples_XGBC))\n",
    "print('accuracy_XGBC: {}'.format(accuracy_XGBC))\n",
    "print('con_matrix_XGBC: \\n{}'.format(con_matrix_XGBC))\n",
    "print(f\"總花費時間 : {((T2 - T1)/60):.2f} 分鐘\")"
   ]
  },
  {
   "cell_type": "code",
   "execution_count": 25,
   "id": "f4b28349",
   "metadata": {},
   "outputs": [
    {
     "data": {
      "text/plain": [
       "0.06747432749690854"
      ]
     },
     "execution_count": 25,
     "metadata": {},
     "output_type": "execute_result"
    }
   ],
   "source": [
    "# 計算資料類別比例\n",
    "from collections import Counter\n",
    "counter = Counter(y2_train)\n",
    "estimate = counter[0] / counter[1]\n",
    "estimate"
   ]
  },
  {
   "cell_type": "code",
   "execution_count": 26,
   "id": "6a2c3561",
   "metadata": {},
   "outputs": [
    {
     "name": "stdout",
     "output_type": "stream",
     "text": [
      "number of correct sample_XGBC: 3401\n",
      "accuracy_XGBC: 0.5138238404592839\n",
      "con_matrix_XGBC: \n",
      "[[ 198  207]\n",
      " [3011 3203]]\n",
      "總花費時間 : 0.12 分鐘\n"
     ]
    }
   ],
   "source": [
    "# scale_pos_weight=0.0675 設資料權重\n",
    "T1=time.time()\n",
    "XGBC = XGBClassifier( n_estimators=1000, learning_rate= 0.01, max_depth=6, scale_pos_weight=0.0675)        \n",
    "\n",
    "XGBC.fit(X_train, y2_train)\n",
    "\n",
    "y2_pred_XGBC = XGBC.predict(X_test)\n",
    "\n",
    "accuracy_XGBC = accuracy_score(y2_test, y2_pred_XGBC)\n",
    "num_correct_samples_XGBC = accuracy_score(y2_test, y2_pred_XGBC, normalize=False)\n",
    "con_matrix_XGBC = confusion_matrix(y2_test, y2_pred_XGBC)\n",
    "T2=time.time()\n",
    "\n",
    "print('number of correct sample_XGBC: {}'.format(num_correct_samples_XGBC))\n",
    "print('accuracy_XGBC: {}'.format(accuracy_XGBC))\n",
    "print('con_matrix_XGBC: \\n{}'.format(con_matrix_XGBC))\n",
    "print(f\"總花費時間 : {((T2 - T1)/60):.2f} 分鐘\")"
   ]
  },
  {
   "cell_type": "markdown",
   "id": "e805fdd8",
   "metadata": {},
   "source": [
    "## AdaBoostClassifier"
   ]
  },
  {
   "cell_type": "code",
   "execution_count": 27,
   "id": "57ecbd8d",
   "metadata": {},
   "outputs": [
    {
     "data": {
      "text/html": [
       "<style>#sk-container-id-1 {color: black;background-color: white;}#sk-container-id-1 pre{padding: 0;}#sk-container-id-1 div.sk-toggleable {background-color: white;}#sk-container-id-1 label.sk-toggleable__label {cursor: pointer;display: block;width: 100%;margin-bottom: 0;padding: 0.3em;box-sizing: border-box;text-align: center;}#sk-container-id-1 label.sk-toggleable__label-arrow:before {content: \"▸\";float: left;margin-right: 0.25em;color: #696969;}#sk-container-id-1 label.sk-toggleable__label-arrow:hover:before {color: black;}#sk-container-id-1 div.sk-estimator:hover label.sk-toggleable__label-arrow:before {color: black;}#sk-container-id-1 div.sk-toggleable__content {max-height: 0;max-width: 0;overflow: hidden;text-align: left;background-color: #f0f8ff;}#sk-container-id-1 div.sk-toggleable__content pre {margin: 0.2em;color: black;border-radius: 0.25em;background-color: #f0f8ff;}#sk-container-id-1 input.sk-toggleable__control:checked~div.sk-toggleable__content {max-height: 200px;max-width: 100%;overflow: auto;}#sk-container-id-1 input.sk-toggleable__control:checked~label.sk-toggleable__label-arrow:before {content: \"▾\";}#sk-container-id-1 div.sk-estimator input.sk-toggleable__control:checked~label.sk-toggleable__label {background-color: #d4ebff;}#sk-container-id-1 div.sk-label input.sk-toggleable__control:checked~label.sk-toggleable__label {background-color: #d4ebff;}#sk-container-id-1 input.sk-hidden--visually {border: 0;clip: rect(1px 1px 1px 1px);clip: rect(1px, 1px, 1px, 1px);height: 1px;margin: -1px;overflow: hidden;padding: 0;position: absolute;width: 1px;}#sk-container-id-1 div.sk-estimator {font-family: monospace;background-color: #f0f8ff;border: 1px dotted black;border-radius: 0.25em;box-sizing: border-box;margin-bottom: 0.5em;}#sk-container-id-1 div.sk-estimator:hover {background-color: #d4ebff;}#sk-container-id-1 div.sk-parallel-item::after {content: \"\";width: 100%;border-bottom: 1px solid gray;flex-grow: 1;}#sk-container-id-1 div.sk-label:hover label.sk-toggleable__label {background-color: #d4ebff;}#sk-container-id-1 div.sk-serial::before {content: \"\";position: absolute;border-left: 1px solid gray;box-sizing: border-box;top: 0;bottom: 0;left: 50%;z-index: 0;}#sk-container-id-1 div.sk-serial {display: flex;flex-direction: column;align-items: center;background-color: white;padding-right: 0.2em;padding-left: 0.2em;position: relative;}#sk-container-id-1 div.sk-item {position: relative;z-index: 1;}#sk-container-id-1 div.sk-parallel {display: flex;align-items: stretch;justify-content: center;background-color: white;position: relative;}#sk-container-id-1 div.sk-item::before, #sk-container-id-1 div.sk-parallel-item::before {content: \"\";position: absolute;border-left: 1px solid gray;box-sizing: border-box;top: 0;bottom: 0;left: 50%;z-index: -1;}#sk-container-id-1 div.sk-parallel-item {display: flex;flex-direction: column;z-index: 1;position: relative;background-color: white;}#sk-container-id-1 div.sk-parallel-item:first-child::after {align-self: flex-end;width: 50%;}#sk-container-id-1 div.sk-parallel-item:last-child::after {align-self: flex-start;width: 50%;}#sk-container-id-1 div.sk-parallel-item:only-child::after {width: 0;}#sk-container-id-1 div.sk-dashed-wrapped {border: 1px dashed gray;margin: 0 0.4em 0.5em 0.4em;box-sizing: border-box;padding-bottom: 0.4em;background-color: white;}#sk-container-id-1 div.sk-label label {font-family: monospace;font-weight: bold;display: inline-block;line-height: 1.2em;}#sk-container-id-1 div.sk-label-container {text-align: center;}#sk-container-id-1 div.sk-container {/* jupyter's `normalize.less` sets `[hidden] { display: none; }` but bootstrap.min.css set `[hidden] { display: none !important; }` so we also need the `!important` here to be able to override the default hidden behavior on the sphinx rendered scikit-learn.org. See: https://github.com/scikit-learn/scikit-learn/issues/21755 */display: inline-block !important;position: relative;}#sk-container-id-1 div.sk-text-repr-fallback {display: none;}</style><div id=\"sk-container-id-1\" class=\"sk-top-container\"><div class=\"sk-text-repr-fallback\"><pre>AdaBoostClassifier(n_estimators=1000, random_state=0)</pre><b>In a Jupyter environment, please rerun this cell to show the HTML representation or trust the notebook. <br />On GitHub, the HTML representation is unable to render, please try loading this page with nbviewer.org.</b></div><div class=\"sk-container\" hidden><div class=\"sk-item\"><div class=\"sk-estimator sk-toggleable\"><input class=\"sk-toggleable__control sk-hidden--visually\" id=\"sk-estimator-id-1\" type=\"checkbox\" checked><label for=\"sk-estimator-id-1\" class=\"sk-toggleable__label sk-toggleable__label-arrow\">AdaBoostClassifier</label><div class=\"sk-toggleable__content\"><pre>AdaBoostClassifier(n_estimators=1000, random_state=0)</pre></div></div></div></div></div>"
      ],
      "text/plain": [
       "AdaBoostClassifier(n_estimators=1000, random_state=0)"
      ]
     },
     "execution_count": 27,
     "metadata": {},
     "output_type": "execute_result"
    }
   ],
   "source": [
    "ADBC = AdaBoostClassifier(n_estimators=1000, random_state=0) #沒有指定模型,預設是決策樹\n",
    "ADBC.fit(X_train, y_CC_train)"
   ]
  },
  {
   "cell_type": "code",
   "execution_count": 28,
   "id": "7b9ddb9c",
   "metadata": {},
   "outputs": [
    {
     "name": "stdout",
     "output_type": "stream",
     "text": [
      "number of correct sample_ADBC: 4243\n",
      "accuracy_ADBC: 0.6410333887294153\n",
      "con_matrix_ADBC: \n",
      "[[   0  425    0    0    0    0    0    0    8]\n",
      " [   0 4243    0    0    0    0    0    0  108]\n",
      " [   0  272    0    0    0    0    0    0    9]\n",
      " [   0 1489    0    0    0    0    0    0   34]\n",
      " [   0   14    0    0    0    0    0    0    0]\n",
      " [   0    7    0    0    0    0    0    0    0]\n",
      " [   0    3    0    0    0    0    0    0    0]\n",
      " [   0    7    0    0    0    0    0    0    0]\n",
      " [   0    0    0    0    0    0    0    0    0]]\n"
     ]
    }
   ],
   "source": [
    "y_CC_pred_ADBC = ADBC.predict(X_test)\n",
    "accuracy_ADBC = accuracy_score(y_CC_test, y_CC_pred_ADBC)\n",
    "num_correct_samples_ADBC = accuracy_score(y_CC_test, y_CC_pred_ADBC, normalize=False)\n",
    "con_matrix_ADBC = confusion_matrix(y_CC_test, y_CC_pred_ADBC)\n",
    "\n",
    "print('number of correct sample_ADBC: {}'.format(num_correct_samples_ADBC))\n",
    "print('accuracy_ADBC: {}'.format(accuracy_ADBC))\n",
    "print('con_matrix_ADBC: \\n{}'.format(con_matrix_ADBC))"
   ]
  },
  {
   "cell_type": "code",
   "execution_count": 11,
   "id": "392abee9",
   "metadata": {},
   "outputs": [
    {
     "name": "stdout",
     "output_type": "stream",
     "text": [
      "number of correct sample_ADBC: 2792\n",
      "accuracy_ADBC: 0.42181598428765676\n",
      "con_matrix_ADBC: \n",
      "[[   0    0  427    1    0    0    0]\n",
      " [   0    0 1519    2    0    0    0]\n",
      " [   0    0 2791    5    0    0    0]\n",
      " [   0    0 1790    1    0    0    0]\n",
      " [   0    0   68    0    0    0    0]\n",
      " [   0    0   10    0    0    0    0]\n",
      " [   0    0    5    0    0    0    0]]\n"
     ]
    }
   ],
   "source": [
    "ADBC = AdaBoostClassifier(n_estimators=1000, random_state=0)\n",
    "ADBC.fit(X_train, y1_train)\n",
    "y1_pred_ADBC = ADBC.predict(X_test)\n",
    "accuracy_ADBC = accuracy_score(y1_test, y1_pred_ADBC)\n",
    "num_correct_samples_ADBC = accuracy_score(y1_test, y1_pred_ADBC, normalize=False)\n",
    "con_matrix_ADBC = confusion_matrix(y1_test, y1_pred_ADBC)\n",
    "\n",
    "print('number of correct sample_ADBC: {}'.format(num_correct_samples_ADBC))\n",
    "print('accuracy_ADBC: {}'.format(accuracy_ADBC))\n",
    "print('con_matrix_ADBC: \\n{}'.format(con_matrix_ADBC))"
   ]
  },
  {
   "cell_type": "markdown",
   "id": "30213c80",
   "metadata": {},
   "source": [
    "## SVC"
   ]
  },
  {
   "cell_type": "code",
   "execution_count": 12,
   "id": "8fe843c5",
   "metadata": {},
   "outputs": [
    {
     "name": "stdout",
     "output_type": "stream",
     "text": [
      "number of correct sample: 4351\n",
      "accuracy: 0.6573500528780782\n",
      "con_matrix: \n",
      "[[   0  433    0    0    0    0    0    0]\n",
      " [   0 4351    0    0    0    0    0    0]\n",
      " [   0  281    0    0    0    0    0    0]\n",
      " [   0 1523    0    0    0    0    0    0]\n",
      " [   0   14    0    0    0    0    0    0]\n",
      " [   0    7    0    0    0    0    0    0]\n",
      " [   0    3    0    0    0    0    0    0]\n",
      " [   0    7    0    0    0    0    0    0]]\n",
      "總花費時間 : 1.52 分鐘\n"
     ]
    }
   ],
   "source": [
    "T1=time.time()\n",
    "\n",
    "svc = SVC(kernel='rbf', C=1.0)\n",
    "svc.fit(X_train, y_CC_train)\n",
    "\n",
    "y_CC_pred_svc = svc.predict(X_test)\n",
    "\n",
    "accuracy_svc = accuracy_score(y_CC_test, y_CC_pred_svc)\n",
    "num_correct_samples_svc = accuracy_score(y_CC_test, y_CC_pred_svc, normalize=False)\n",
    "con_matrix_svc = confusion_matrix(y_CC_test, y_CC_pred_svc)\n",
    "\n",
    "T2=time.time()\n",
    "\n",
    "print('number of correct sample: {}'.format(num_correct_samples_svc))\n",
    "print('accuracy: {}'.format(accuracy_svc))\n",
    "print('con_matrix: \\n{}'.format(con_matrix_svc))\n",
    "print(f\"總花費時間 : {((T2 - T1)/60):.2f} 分鐘\")"
   ]
  },
  {
   "cell_type": "code",
   "execution_count": 13,
   "id": "ae4af6a8",
   "metadata": {},
   "outputs": [
    {
     "name": "stdout",
     "output_type": "stream",
     "text": [
      "number of correct sample: 2796\n",
      "accuracy: 0.42242030518205165\n",
      "con_matrix: \n",
      "[[   0    0  428    0    0    0    0]\n",
      " [   0    0 1521    0    0    0    0]\n",
      " [   0    0 2796    0    0    0    0]\n",
      " [   0    0 1791    0    0    0    0]\n",
      " [   0    0   68    0    0    0    0]\n",
      " [   0    0   10    0    0    0    0]\n",
      " [   0    0    5    0    0    0    0]]\n",
      "總花費時間 : 2.57 分鐘\n"
     ]
    }
   ],
   "source": [
    "T1=time.time()\n",
    "\n",
    "svc = SVC(kernel='rbf', C=1.0)\n",
    "svc.fit(X_train, y1_train)\n",
    "\n",
    "y1_pred_svc = svc.predict(X_test)\n",
    "\n",
    "accuracy_svc = accuracy_score(y1_test, y1_pred_svc)\n",
    "num_correct_samples_svc = accuracy_score(y1_test, y1_pred_svc, normalize=False)\n",
    "con_matrix_svc = confusion_matrix(y1_test, y1_pred_svc)\n",
    "\n",
    "T2=time.time()\n",
    "\n",
    "print('number of correct sample: {}'.format(num_correct_samples_svc))\n",
    "print('accuracy: {}'.format(accuracy_svc))\n",
    "print('con_matrix: \\n{}'.format(con_matrix_svc))\n",
    "print(f\"總花費時間 : {((T2 - T1)/60):.2f} 分鐘\")"
   ]
  },
  {
   "cell_type": "code",
   "execution_count": 30,
   "id": "b8d3d8f9",
   "metadata": {},
   "outputs": [
    {
     "name": "stdout",
     "output_type": "stream",
     "text": [
      "number of correct sample: 405\n",
      "accuracy: 0.06118749055748603\n",
      "con_matrix: \n",
      "[[  8  40  42   2  28  24  66  55  27  40  21  16  54  10]\n",
      " [ 88 358 328  41 356 329 712 563 249 354 197 246 446  84]\n",
      " [  4  25  17   4  25  22  47  32  19  28  13  18  24   3]\n",
      " [ 37 126 128  17 112 118 230 207  84 117  61  84 168  34]\n",
      " [  0   0   0   0   2   2   2   1   1   0   0   2   3   1]\n",
      " [  0   1   1   0   1   1   0   1   0   2   0   0   0   0]\n",
      " [  0   0   0   0   0   0   1   1   0   0   0   0   0   1]\n",
      " [  0   0   0   0   0   0   0   0   0   0   0   0   0   0]\n",
      " [  0   0   0   0   0   0   0   0   0   0   0   0   0   0]\n",
      " [  0   1   3   0   0   0   1   0   1   1   0   0   0   0]\n",
      " [  0   0   0   0   0   0   0   0   0   0   0   0   0   0]\n",
      " [  0   0   0   0   0   0   0   0   0   0   0   0   0   0]\n",
      " [  0   0   0   0   0   0   0   0   0   0   0   0   0   0]\n",
      " [  0   0   0   0   0   0   0   0   0   0   0   0   0   0]]\n",
      "總花費時間 : 10.45 分鐘\n"
     ]
    }
   ],
   "source": [
    "T1=time.time()\n",
    "\n",
    "svc = SVC(kernel='rbf', C=1.0, class_weight = \"balanced\")\n",
    "svc.fit(X_train, y_CC_train)\n",
    "\n",
    "y_CC_pred_svc = svc.predict(X_test)\n",
    "\n",
    "accuracy_svc = accuracy_score(y_CC_test, y_CC_pred_svc)\n",
    "num_correct_samples_svc = accuracy_score(y_CC_test, y_CC_pred_svc, normalize=False)\n",
    "con_matrix_svc = confusion_matrix(y_CC_test, y_CC_pred_svc)\n",
    "\n",
    "T2=time.time()\n",
    "\n",
    "print('number of correct sample: {}'.format(num_correct_samples_svc))\n",
    "print('accuracy: {}'.format(accuracy_svc))\n",
    "print('con_matrix: \\n{}'.format(con_matrix_svc))\n",
    "print(f\"總花費時間 : {((T2 - T1)/60):.2f} 分鐘\")"
   ]
  },
  {
   "cell_type": "code",
   "execution_count": 31,
   "id": "9a4cf2ab",
   "metadata": {},
   "outputs": [
    {
     "data": {
      "text/plain": [
       "array([1.13880392e+00, 1.07400702e-01, 1.75229466e+00, 3.14896857e-01,\n",
       "       4.34139942e+01, 5.99235412e+01, 1.63637363e+02, 1.70182857e+02,\n",
       "       2.12728571e+03, 1.09091575e+02, 1.06364286e+03, 2.12728571e+03,\n",
       "       7.09095238e+02, 2.12728571e+03])"
      ]
     },
     "execution_count": 31,
     "metadata": {},
     "output_type": "execute_result"
    }
   ],
   "source": [
    "svc.class_weight_"
   ]
  },
  {
   "cell_type": "markdown",
   "id": "c3585f81",
   "metadata": {},
   "source": [
    "### MLP"
   ]
  },
  {
   "cell_type": "code",
   "execution_count": 14,
   "id": "8a6426a9",
   "metadata": {},
   "outputs": [],
   "source": [
    "from sklearn.neural_network import MLPClassifier"
   ]
  },
  {
   "cell_type": "code",
   "execution_count": 15,
   "id": "81053f49",
   "metadata": {},
   "outputs": [],
   "source": [
    "mlp = MLPClassifier(hidden_layer_sizes=(100,50,10), max_iter=10, alpha=1e-4,\n",
    "                    solver='sgd', verbose=10, tol=1e-4, random_state=1,\n",
    "                    learning_rate_init=.1)"
   ]
  },
  {
   "cell_type": "code",
   "execution_count": 17,
   "id": "cedc14f2",
   "metadata": {},
   "outputs": [
    {
     "name": "stdout",
     "output_type": "stream",
     "text": [
      "Iteration 1, loss = 0.98032438\n",
      "Iteration 2, loss = 0.94741205\n",
      "Iteration 3, loss = 0.94758712\n",
      "Iteration 4, loss = 0.94701994\n",
      "Iteration 5, loss = 0.94676349\n",
      "Iteration 6, loss = 0.94650832\n",
      "Iteration 7, loss = 0.94659297\n",
      "Iteration 8, loss = 0.94659037\n",
      "Iteration 9, loss = 0.94604267\n",
      "Iteration 10, loss = 0.94586348\n"
     ]
    },
    {
     "name": "stderr",
     "output_type": "stream",
     "text": [
      "C:\\Users\\student\\anaconda3\\envs\\ML_pythone3_9\\lib\\site-packages\\sklearn\\neural_network\\_multilayer_perceptron.py:702: ConvergenceWarning: Stochastic Optimizer: Maximum iterations (10) reached and the optimization hasn't converged yet.\n",
      "  warnings.warn(\n"
     ]
    },
    {
     "data": {
      "text/html": [
       "<style>#sk-container-id-1 {color: black;background-color: white;}#sk-container-id-1 pre{padding: 0;}#sk-container-id-1 div.sk-toggleable {background-color: white;}#sk-container-id-1 label.sk-toggleable__label {cursor: pointer;display: block;width: 100%;margin-bottom: 0;padding: 0.3em;box-sizing: border-box;text-align: center;}#sk-container-id-1 label.sk-toggleable__label-arrow:before {content: \"▸\";float: left;margin-right: 0.25em;color: #696969;}#sk-container-id-1 label.sk-toggleable__label-arrow:hover:before {color: black;}#sk-container-id-1 div.sk-estimator:hover label.sk-toggleable__label-arrow:before {color: black;}#sk-container-id-1 div.sk-toggleable__content {max-height: 0;max-width: 0;overflow: hidden;text-align: left;background-color: #f0f8ff;}#sk-container-id-1 div.sk-toggleable__content pre {margin: 0.2em;color: black;border-radius: 0.25em;background-color: #f0f8ff;}#sk-container-id-1 input.sk-toggleable__control:checked~div.sk-toggleable__content {max-height: 200px;max-width: 100%;overflow: auto;}#sk-container-id-1 input.sk-toggleable__control:checked~label.sk-toggleable__label-arrow:before {content: \"▾\";}#sk-container-id-1 div.sk-estimator input.sk-toggleable__control:checked~label.sk-toggleable__label {background-color: #d4ebff;}#sk-container-id-1 div.sk-label input.sk-toggleable__control:checked~label.sk-toggleable__label {background-color: #d4ebff;}#sk-container-id-1 input.sk-hidden--visually {border: 0;clip: rect(1px 1px 1px 1px);clip: rect(1px, 1px, 1px, 1px);height: 1px;margin: -1px;overflow: hidden;padding: 0;position: absolute;width: 1px;}#sk-container-id-1 div.sk-estimator {font-family: monospace;background-color: #f0f8ff;border: 1px dotted black;border-radius: 0.25em;box-sizing: border-box;margin-bottom: 0.5em;}#sk-container-id-1 div.sk-estimator:hover {background-color: #d4ebff;}#sk-container-id-1 div.sk-parallel-item::after {content: \"\";width: 100%;border-bottom: 1px solid gray;flex-grow: 1;}#sk-container-id-1 div.sk-label:hover label.sk-toggleable__label {background-color: #d4ebff;}#sk-container-id-1 div.sk-serial::before {content: \"\";position: absolute;border-left: 1px solid gray;box-sizing: border-box;top: 0;bottom: 0;left: 50%;z-index: 0;}#sk-container-id-1 div.sk-serial {display: flex;flex-direction: column;align-items: center;background-color: white;padding-right: 0.2em;padding-left: 0.2em;position: relative;}#sk-container-id-1 div.sk-item {position: relative;z-index: 1;}#sk-container-id-1 div.sk-parallel {display: flex;align-items: stretch;justify-content: center;background-color: white;position: relative;}#sk-container-id-1 div.sk-item::before, #sk-container-id-1 div.sk-parallel-item::before {content: \"\";position: absolute;border-left: 1px solid gray;box-sizing: border-box;top: 0;bottom: 0;left: 50%;z-index: -1;}#sk-container-id-1 div.sk-parallel-item {display: flex;flex-direction: column;z-index: 1;position: relative;background-color: white;}#sk-container-id-1 div.sk-parallel-item:first-child::after {align-self: flex-end;width: 50%;}#sk-container-id-1 div.sk-parallel-item:last-child::after {align-self: flex-start;width: 50%;}#sk-container-id-1 div.sk-parallel-item:only-child::after {width: 0;}#sk-container-id-1 div.sk-dashed-wrapped {border: 1px dashed gray;margin: 0 0.4em 0.5em 0.4em;box-sizing: border-box;padding-bottom: 0.4em;background-color: white;}#sk-container-id-1 div.sk-label label {font-family: monospace;font-weight: bold;display: inline-block;line-height: 1.2em;}#sk-container-id-1 div.sk-label-container {text-align: center;}#sk-container-id-1 div.sk-container {/* jupyter's `normalize.less` sets `[hidden] { display: none; }` but bootstrap.min.css set `[hidden] { display: none !important; }` so we also need the `!important` here to be able to override the default hidden behavior on the sphinx rendered scikit-learn.org. See: https://github.com/scikit-learn/scikit-learn/issues/21755 */display: inline-block !important;position: relative;}#sk-container-id-1 div.sk-text-repr-fallback {display: none;}</style><div id=\"sk-container-id-1\" class=\"sk-top-container\"><div class=\"sk-text-repr-fallback\"><pre>MLPClassifier(hidden_layer_sizes=(100, 50, 10), learning_rate_init=0.1,\n",
       "              max_iter=10, random_state=1, solver=&#x27;sgd&#x27;, verbose=10)</pre><b>In a Jupyter environment, please rerun this cell to show the HTML representation or trust the notebook. <br />On GitHub, the HTML representation is unable to render, please try loading this page with nbviewer.org.</b></div><div class=\"sk-container\" hidden><div class=\"sk-item\"><div class=\"sk-estimator sk-toggleable\"><input class=\"sk-toggleable__control sk-hidden--visually\" id=\"sk-estimator-id-1\" type=\"checkbox\" checked><label for=\"sk-estimator-id-1\" class=\"sk-toggleable__label sk-toggleable__label-arrow\">MLPClassifier</label><div class=\"sk-toggleable__content\"><pre>MLPClassifier(hidden_layer_sizes=(100, 50, 10), learning_rate_init=0.1,\n",
       "              max_iter=10, random_state=1, solver=&#x27;sgd&#x27;, verbose=10)</pre></div></div></div></div></div>"
      ],
      "text/plain": [
       "MLPClassifier(hidden_layer_sizes=(100, 50, 10), learning_rate_init=0.1,\n",
       "              max_iter=10, random_state=1, solver='sgd', verbose=10)"
      ]
     },
     "execution_count": 17,
     "metadata": {},
     "output_type": "execute_result"
    }
   ],
   "source": [
    "mlp.fit(X_train, y_CC_train)"
   ]
  },
  {
   "cell_type": "code",
   "execution_count": 18,
   "id": "70c49c60",
   "metadata": {},
   "outputs": [
    {
     "name": "stdout",
     "output_type": "stream",
     "text": [
      "number of correct sample_MLP: 4351\n",
      "accuracy_XGBC: 65.74%\n",
      "con_matrix_XGBC: \n",
      "[[   0  433    0    0    0    0    0    0]\n",
      " [   0 4351    0    0    0    0    0    0]\n",
      " [   0  281    0    0    0    0    0    0]\n",
      " [   0 1523    0    0    0    0    0    0]\n",
      " [   0   14    0    0    0    0    0    0]\n",
      " [   0    7    0    0    0    0    0    0]\n",
      " [   0    3    0    0    0    0    0    0]\n",
      " [   0    7    0    0    0    0    0    0]]\n"
     ]
    }
   ],
   "source": [
    "y_CC_pred_mlp = mlp.predict(X_test)\n",
    "\n",
    "accuracy_mlp = accuracy_score(y_CC_test, y_CC_pred_mlp)\n",
    "num_correct_samples_mlp = accuracy_score(y_CC_test, y_CC_pred_mlp, normalize=False)\n",
    "con_matrix_mlp = confusion_matrix(y_CC_test, y_CC_pred_mlp)\n",
    "\n",
    "print('number of correct sample_MLP: {}'.format(num_correct_samples_mlp))\n",
    "print(f'accuracy_MLP: {(accuracy_mlp)*100:.2f}%')\n",
    "print('con_matrix_MLP: \\n{}'.format(con_matrix_mlp))"
   ]
  },
  {
   "cell_type": "code",
   "execution_count": 19,
   "id": "398aa2f2",
   "metadata": {},
   "outputs": [
    {
     "name": "stdout",
     "output_type": "stream",
     "text": [
      "Iteration 1, loss = 1.30407096\n",
      "Iteration 2, loss = 1.29543990\n",
      "Iteration 3, loss = 1.29445591\n",
      "Iteration 4, loss = 1.29472785\n",
      "Iteration 5, loss = 1.29431371\n",
      "Iteration 6, loss = 1.29416487\n",
      "Iteration 7, loss = 1.29416782\n",
      "Iteration 8, loss = 1.29419503\n",
      "Iteration 9, loss = 1.29406752\n",
      "Iteration 10, loss = 1.29405591\n",
      "number of correct sample_MLP: 2796\n",
      "accuracy_MLP: 42.24%\n",
      "con_matrix_MLP: \n",
      "[[   0    0  428    0    0    0    0]\n",
      " [   0    0 1521    0    0    0    0]\n",
      " [   0    0 2796    0    0    0    0]\n",
      " [   0    0 1791    0    0    0    0]\n",
      " [   0    0   68    0    0    0    0]\n",
      " [   0    0   10    0    0    0    0]\n",
      " [   0    0    5    0    0    0    0]]\n"
     ]
    },
    {
     "name": "stderr",
     "output_type": "stream",
     "text": [
      "C:\\Users\\student\\anaconda3\\envs\\ML_pythone3_9\\lib\\site-packages\\sklearn\\neural_network\\_multilayer_perceptron.py:702: ConvergenceWarning: Stochastic Optimizer: Maximum iterations (10) reached and the optimization hasn't converged yet.\n",
      "  warnings.warn(\n"
     ]
    }
   ],
   "source": [
    "mlp.fit(X_train, y1_train)\n",
    "y1_pred_mlp = mlp.predict(X_test)\n",
    "\n",
    "accuracy_mlp = accuracy_score(y1_test, y1_pred_mlp)\n",
    "num_correct_samples_mlp = accuracy_score(y1_test, y1_pred_mlp, normalize=False)\n",
    "con_matrix_mlp = confusion_matrix(y1_test, y1_pred_mlp)\n",
    "\n",
    "print('number of correct sample_MLP: {}'.format(num_correct_samples_mlp))\n",
    "print(f'accuracy_MLP: {(accuracy_mlp)*100:.2f}%')\n",
    "print('con_matrix_MLP: \\n{}'.format(con_matrix_mlp))"
   ]
  },
  {
   "cell_type": "markdown",
   "id": "e6a53faf",
   "metadata": {},
   "source": [
    "## RandomForestRegressor"
   ]
  },
  {
   "cell_type": "code",
   "execution_count": 33,
   "id": "d210e0fc",
   "metadata": {},
   "outputs": [
    {
     "data": {
      "text/plain": [
       "0         35\n",
       "1        605\n",
       "2        180\n",
       "3          0\n",
       "4          0\n",
       "        ... \n",
       "66178     25\n",
       "66179     30\n",
       "66180    120\n",
       "66181     35\n",
       "66182     90\n",
       "Name: judge_resultInt, Length: 66183, dtype: int64"
      ]
     },
     "execution_count": 33,
     "metadata": {},
     "output_type": "execute_result"
    }
   ],
   "source": [
    "y_r = df.loc[:, \"judge_resultInt\"]\n",
    "y_r"
   ]
  },
  {
   "cell_type": "code",
   "execution_count": 34,
   "id": "9dddc75e",
   "metadata": {},
   "outputs": [
    {
     "name": "stdout",
     "output_type": "stream",
     "text": [
      "MSE score: 8597.996923550261\n",
      "R2 score: 0.41700751934227054\n"
     ]
    }
   ],
   "source": [
    "from sklearn.metrics import mean_squared_error\n",
    "X_train, X_test, y_r_train, y_r_test = train_test_split(X, y_r, test_size=0.1)\n",
    "\n",
    "model = RandomForestRegressor(max_depth=6, n_estimators=1000, n_jobs=-1) \n",
    "model.fit(X_train, y_r_train)\n",
    "\n",
    "y_r_pred = model.predict(X_test)\n",
    "MSE=mean_squared_error(y_r_test, y_r_pred)\n",
    "\n",
    "# Explained variance score: 1 is perfect prediction\n",
    "print(f'MSE score: {MSE}')\n",
    "print('R2 score: {}'.format(model.score(X_test, y_r_test, sample_weight=None))) "
   ]
  },
  {
   "cell_type": "markdown",
   "id": "2abce84a",
   "metadata": {},
   "source": [
    "## XGBRegressor"
   ]
  },
  {
   "cell_type": "code",
   "execution_count": 35,
   "id": "2dfb8f4b",
   "metadata": {},
   "outputs": [],
   "source": [
    "regressor = xgb.XGBRegressor(\n",
    "    n_estimators=1000,  # n_estimators: 總共迭代的次數，即決策樹的個數。預設值為100。\n",
    "    reg_lambda=1,      \n",
    "    gamma=0,           # gamma: 懲罰項係數，指定節點分裂所需的最小損失函數下降值。\n",
    "    max_depth=6        # max_depth: 樹的最大深度，默認值為6。\n",
    ")        "
   ]
  },
  {
   "cell_type": "code",
   "execution_count": 36,
   "id": "debd2bd5",
   "metadata": {},
   "outputs": [
    {
     "data": {
      "text/html": [
       "<style>#sk-container-id-2 {color: black;background-color: white;}#sk-container-id-2 pre{padding: 0;}#sk-container-id-2 div.sk-toggleable {background-color: white;}#sk-container-id-2 label.sk-toggleable__label {cursor: pointer;display: block;width: 100%;margin-bottom: 0;padding: 0.3em;box-sizing: border-box;text-align: center;}#sk-container-id-2 label.sk-toggleable__label-arrow:before {content: \"▸\";float: left;margin-right: 0.25em;color: #696969;}#sk-container-id-2 label.sk-toggleable__label-arrow:hover:before {color: black;}#sk-container-id-2 div.sk-estimator:hover label.sk-toggleable__label-arrow:before {color: black;}#sk-container-id-2 div.sk-toggleable__content {max-height: 0;max-width: 0;overflow: hidden;text-align: left;background-color: #f0f8ff;}#sk-container-id-2 div.sk-toggleable__content pre {margin: 0.2em;color: black;border-radius: 0.25em;background-color: #f0f8ff;}#sk-container-id-2 input.sk-toggleable__control:checked~div.sk-toggleable__content {max-height: 200px;max-width: 100%;overflow: auto;}#sk-container-id-2 input.sk-toggleable__control:checked~label.sk-toggleable__label-arrow:before {content: \"▾\";}#sk-container-id-2 div.sk-estimator input.sk-toggleable__control:checked~label.sk-toggleable__label {background-color: #d4ebff;}#sk-container-id-2 div.sk-label input.sk-toggleable__control:checked~label.sk-toggleable__label {background-color: #d4ebff;}#sk-container-id-2 input.sk-hidden--visually {border: 0;clip: rect(1px 1px 1px 1px);clip: rect(1px, 1px, 1px, 1px);height: 1px;margin: -1px;overflow: hidden;padding: 0;position: absolute;width: 1px;}#sk-container-id-2 div.sk-estimator {font-family: monospace;background-color: #f0f8ff;border: 1px dotted black;border-radius: 0.25em;box-sizing: border-box;margin-bottom: 0.5em;}#sk-container-id-2 div.sk-estimator:hover {background-color: #d4ebff;}#sk-container-id-2 div.sk-parallel-item::after {content: \"\";width: 100%;border-bottom: 1px solid gray;flex-grow: 1;}#sk-container-id-2 div.sk-label:hover label.sk-toggleable__label {background-color: #d4ebff;}#sk-container-id-2 div.sk-serial::before {content: \"\";position: absolute;border-left: 1px solid gray;box-sizing: border-box;top: 0;bottom: 0;left: 50%;z-index: 0;}#sk-container-id-2 div.sk-serial {display: flex;flex-direction: column;align-items: center;background-color: white;padding-right: 0.2em;padding-left: 0.2em;position: relative;}#sk-container-id-2 div.sk-item {position: relative;z-index: 1;}#sk-container-id-2 div.sk-parallel {display: flex;align-items: stretch;justify-content: center;background-color: white;position: relative;}#sk-container-id-2 div.sk-item::before, #sk-container-id-2 div.sk-parallel-item::before {content: \"\";position: absolute;border-left: 1px solid gray;box-sizing: border-box;top: 0;bottom: 0;left: 50%;z-index: -1;}#sk-container-id-2 div.sk-parallel-item {display: flex;flex-direction: column;z-index: 1;position: relative;background-color: white;}#sk-container-id-2 div.sk-parallel-item:first-child::after {align-self: flex-end;width: 50%;}#sk-container-id-2 div.sk-parallel-item:last-child::after {align-self: flex-start;width: 50%;}#sk-container-id-2 div.sk-parallel-item:only-child::after {width: 0;}#sk-container-id-2 div.sk-dashed-wrapped {border: 1px dashed gray;margin: 0 0.4em 0.5em 0.4em;box-sizing: border-box;padding-bottom: 0.4em;background-color: white;}#sk-container-id-2 div.sk-label label {font-family: monospace;font-weight: bold;display: inline-block;line-height: 1.2em;}#sk-container-id-2 div.sk-label-container {text-align: center;}#sk-container-id-2 div.sk-container {/* jupyter's `normalize.less` sets `[hidden] { display: none; }` but bootstrap.min.css set `[hidden] { display: none !important; }` so we also need the `!important` here to be able to override the default hidden behavior on the sphinx rendered scikit-learn.org. See: https://github.com/scikit-learn/scikit-learn/issues/21755 */display: inline-block !important;position: relative;}#sk-container-id-2 div.sk-text-repr-fallback {display: none;}</style><div id=\"sk-container-id-2\" class=\"sk-top-container\"><div class=\"sk-text-repr-fallback\"><pre>XGBRegressor(base_score=0.5, booster=&#x27;gbtree&#x27;, callbacks=None,\n",
       "             colsample_bylevel=1, colsample_bynode=1, colsample_bytree=1,\n",
       "             early_stopping_rounds=None, enable_categorical=False,\n",
       "             eval_metric=None, feature_types=None, gamma=0, gpu_id=-1,\n",
       "             grow_policy=&#x27;depthwise&#x27;, importance_type=None,\n",
       "             interaction_constraints=&#x27;&#x27;, learning_rate=0.300000012, max_bin=256,\n",
       "             max_cat_threshold=64, max_cat_to_onehot=4, max_delta_step=0,\n",
       "             max_depth=6, max_leaves=0, min_child_weight=1, missing=nan,\n",
       "             monotone_constraints=&#x27;()&#x27;, n_estimators=1000, n_jobs=0,\n",
       "             num_parallel_tree=1, predictor=&#x27;auto&#x27;, random_state=0, ...)</pre><b>In a Jupyter environment, please rerun this cell to show the HTML representation or trust the notebook. <br />On GitHub, the HTML representation is unable to render, please try loading this page with nbviewer.org.</b></div><div class=\"sk-container\" hidden><div class=\"sk-item\"><div class=\"sk-estimator sk-toggleable\"><input class=\"sk-toggleable__control sk-hidden--visually\" id=\"sk-estimator-id-2\" type=\"checkbox\" checked><label for=\"sk-estimator-id-2\" class=\"sk-toggleable__label sk-toggleable__label-arrow\">XGBRegressor</label><div class=\"sk-toggleable__content\"><pre>XGBRegressor(base_score=0.5, booster=&#x27;gbtree&#x27;, callbacks=None,\n",
       "             colsample_bylevel=1, colsample_bynode=1, colsample_bytree=1,\n",
       "             early_stopping_rounds=None, enable_categorical=False,\n",
       "             eval_metric=None, feature_types=None, gamma=0, gpu_id=-1,\n",
       "             grow_policy=&#x27;depthwise&#x27;, importance_type=None,\n",
       "             interaction_constraints=&#x27;&#x27;, learning_rate=0.300000012, max_bin=256,\n",
       "             max_cat_threshold=64, max_cat_to_onehot=4, max_delta_step=0,\n",
       "             max_depth=6, max_leaves=0, min_child_weight=1, missing=nan,\n",
       "             monotone_constraints=&#x27;()&#x27;, n_estimators=1000, n_jobs=0,\n",
       "             num_parallel_tree=1, predictor=&#x27;auto&#x27;, random_state=0, ...)</pre></div></div></div></div></div>"
      ],
      "text/plain": [
       "XGBRegressor(base_score=0.5, booster='gbtree', callbacks=None,\n",
       "             colsample_bylevel=1, colsample_bynode=1, colsample_bytree=1,\n",
       "             early_stopping_rounds=None, enable_categorical=False,\n",
       "             eval_metric=None, feature_types=None, gamma=0, gpu_id=-1,\n",
       "             grow_policy='depthwise', importance_type=None,\n",
       "             interaction_constraints='', learning_rate=0.300000012, max_bin=256,\n",
       "             max_cat_threshold=64, max_cat_to_onehot=4, max_delta_step=0,\n",
       "             max_depth=6, max_leaves=0, min_child_weight=1, missing=nan,\n",
       "             monotone_constraints='()', n_estimators=1000, n_jobs=0,\n",
       "             num_parallel_tree=1, predictor='auto', random_state=0, ...)"
      ]
     },
     "execution_count": 36,
     "metadata": {},
     "output_type": "execute_result"
    }
   ],
   "source": [
    "regressor.fit(X_train, y_r_train)"
   ]
  },
  {
   "cell_type": "code",
   "execution_count": 37,
   "id": "c893c24c",
   "metadata": {},
   "outputs": [
    {
     "name": "stdout",
     "output_type": "stream",
     "text": [
      "r2: 0.01757796126258393\n",
      "mse: 14488.80036525097\n"
     ]
    }
   ],
   "source": [
    "y_r_pred = regressor.predict(X_test)\n",
    "mse = mean_squared_error(y_r_test, y_r_pred)\n",
    "r2 = r2_score(y_r_test, y_r_pred)\n",
    "print('r2: {}'.format(r2))\n",
    "print('mse: {}'.format(mse))"
   ]
  }
 ],
 "metadata": {
  "kernelspec": {
   "display_name": "Python 3 (ipykernel)",
   "language": "python",
   "name": "python3"
  },
  "language_info": {
   "codemirror_mode": {
    "name": "ipython",
    "version": 3
   },
   "file_extension": ".py",
   "mimetype": "text/x-python",
   "name": "python",
   "nbconvert_exporter": "python",
   "pygments_lexer": "ipython3",
   "version": "3.9.15"
  }
 },
 "nbformat": 4,
 "nbformat_minor": 5
}
